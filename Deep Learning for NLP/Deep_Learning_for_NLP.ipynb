{
  "nbformat": 4,
  "nbformat_minor": 0,
  "metadata": {
    "colab": {
      "name": "Deep Learning for NLP.ipynb",
      "provenance": [],
      "collapsed_sections": [
        "S17mlniR-cS1",
        "GlwqMD4TtSfz",
        "Rpw2aH1dRUwq",
        "3hdUQZ92tc4D",
        "YDhJ8JcFvF4J",
        "3pfNJKstwvjR",
        "w0Asl9BBG0hE"
      ],
      "machine_shape": "hm"
    },
    "kernelspec": {
      "name": "python3",
      "display_name": "Python 3"
    },
    "accelerator": "GPU",
    "widgets": {
      "application/vnd.jupyter.widget-state+json": {
        "228720e4db1e47ee8f47a542d59ceea1": {
          "model_module": "@jupyter-widgets/controls",
          "model_name": "HBoxModel",
          "state": {
            "_view_name": "HBoxView",
            "_dom_classes": [],
            "_model_name": "HBoxModel",
            "_view_module": "@jupyter-widgets/controls",
            "_model_module_version": "1.5.0",
            "_view_count": null,
            "_view_module_version": "1.5.0",
            "box_style": "",
            "layout": "IPY_MODEL_682518b5d4e6458fa9058d18cc8982ca",
            "_model_module": "@jupyter-widgets/controls",
            "children": [
              "IPY_MODEL_9e12d384748a4c578cfec34d024e6207",
              "IPY_MODEL_9c288f169c9d4d28b757beab227785bc"
            ]
          }
        },
        "682518b5d4e6458fa9058d18cc8982ca": {
          "model_module": "@jupyter-widgets/base",
          "model_name": "LayoutModel",
          "state": {
            "_view_name": "LayoutView",
            "grid_template_rows": null,
            "right": null,
            "justify_content": null,
            "_view_module": "@jupyter-widgets/base",
            "overflow": null,
            "_model_module_version": "1.2.0",
            "_view_count": null,
            "flex_flow": null,
            "width": null,
            "min_width": null,
            "border": null,
            "align_items": null,
            "bottom": null,
            "_model_module": "@jupyter-widgets/base",
            "top": null,
            "grid_column": null,
            "overflow_y": null,
            "overflow_x": null,
            "grid_auto_flow": null,
            "grid_area": null,
            "grid_template_columns": null,
            "flex": null,
            "_model_name": "LayoutModel",
            "justify_items": null,
            "grid_row": null,
            "max_height": null,
            "align_content": null,
            "visibility": null,
            "align_self": null,
            "height": null,
            "min_height": null,
            "padding": null,
            "grid_auto_rows": null,
            "grid_gap": null,
            "max_width": null,
            "order": null,
            "_view_module_version": "1.2.0",
            "grid_template_areas": null,
            "object_position": null,
            "object_fit": null,
            "grid_auto_columns": null,
            "margin": null,
            "display": null,
            "left": null
          }
        },
        "9e12d384748a4c578cfec34d024e6207": {
          "model_module": "@jupyter-widgets/controls",
          "model_name": "IntProgressModel",
          "state": {
            "_view_name": "ProgressView",
            "style": "IPY_MODEL_1e027864b47a43e6b8063facc2a9a6d1",
            "_dom_classes": [],
            "description": "Downloading",
            "_model_name": "IntProgressModel",
            "bar_style": "success",
            "max": 231508,
            "_view_module": "@jupyter-widgets/controls",
            "_model_module_version": "1.5.0",
            "value": 231508,
            "_view_count": null,
            "_view_module_version": "1.5.0",
            "orientation": "horizontal",
            "min": 0,
            "description_tooltip": null,
            "_model_module": "@jupyter-widgets/controls",
            "layout": "IPY_MODEL_16b970e3e8234083bdaa5d236b087b5f"
          }
        },
        "9c288f169c9d4d28b757beab227785bc": {
          "model_module": "@jupyter-widgets/controls",
          "model_name": "HTMLModel",
          "state": {
            "_view_name": "HTMLView",
            "style": "IPY_MODEL_a11620a9b23a49d7983f77d4d15b9b40",
            "_dom_classes": [],
            "description": "",
            "_model_name": "HTMLModel",
            "placeholder": "​",
            "_view_module": "@jupyter-widgets/controls",
            "_model_module_version": "1.5.0",
            "value": "100% 232k/232k [00:00&lt;00:00, 5.89MB/s]",
            "_view_count": null,
            "_view_module_version": "1.5.0",
            "description_tooltip": null,
            "_model_module": "@jupyter-widgets/controls",
            "layout": "IPY_MODEL_afa30f6944294f5e86f0f870e04dfb10"
          }
        },
        "1e027864b47a43e6b8063facc2a9a6d1": {
          "model_module": "@jupyter-widgets/controls",
          "model_name": "ProgressStyleModel",
          "state": {
            "_view_name": "StyleView",
            "_model_name": "ProgressStyleModel",
            "description_width": "initial",
            "_view_module": "@jupyter-widgets/base",
            "_model_module_version": "1.5.0",
            "_view_count": null,
            "_view_module_version": "1.2.0",
            "bar_color": null,
            "_model_module": "@jupyter-widgets/controls"
          }
        },
        "16b970e3e8234083bdaa5d236b087b5f": {
          "model_module": "@jupyter-widgets/base",
          "model_name": "LayoutModel",
          "state": {
            "_view_name": "LayoutView",
            "grid_template_rows": null,
            "right": null,
            "justify_content": null,
            "_view_module": "@jupyter-widgets/base",
            "overflow": null,
            "_model_module_version": "1.2.0",
            "_view_count": null,
            "flex_flow": null,
            "width": null,
            "min_width": null,
            "border": null,
            "align_items": null,
            "bottom": null,
            "_model_module": "@jupyter-widgets/base",
            "top": null,
            "grid_column": null,
            "overflow_y": null,
            "overflow_x": null,
            "grid_auto_flow": null,
            "grid_area": null,
            "grid_template_columns": null,
            "flex": null,
            "_model_name": "LayoutModel",
            "justify_items": null,
            "grid_row": null,
            "max_height": null,
            "align_content": null,
            "visibility": null,
            "align_self": null,
            "height": null,
            "min_height": null,
            "padding": null,
            "grid_auto_rows": null,
            "grid_gap": null,
            "max_width": null,
            "order": null,
            "_view_module_version": "1.2.0",
            "grid_template_areas": null,
            "object_position": null,
            "object_fit": null,
            "grid_auto_columns": null,
            "margin": null,
            "display": null,
            "left": null
          }
        },
        "a11620a9b23a49d7983f77d4d15b9b40": {
          "model_module": "@jupyter-widgets/controls",
          "model_name": "DescriptionStyleModel",
          "state": {
            "_view_name": "StyleView",
            "_model_name": "DescriptionStyleModel",
            "description_width": "",
            "_view_module": "@jupyter-widgets/base",
            "_model_module_version": "1.5.0",
            "_view_count": null,
            "_view_module_version": "1.2.0",
            "_model_module": "@jupyter-widgets/controls"
          }
        },
        "afa30f6944294f5e86f0f870e04dfb10": {
          "model_module": "@jupyter-widgets/base",
          "model_name": "LayoutModel",
          "state": {
            "_view_name": "LayoutView",
            "grid_template_rows": null,
            "right": null,
            "justify_content": null,
            "_view_module": "@jupyter-widgets/base",
            "overflow": null,
            "_model_module_version": "1.2.0",
            "_view_count": null,
            "flex_flow": null,
            "width": null,
            "min_width": null,
            "border": null,
            "align_items": null,
            "bottom": null,
            "_model_module": "@jupyter-widgets/base",
            "top": null,
            "grid_column": null,
            "overflow_y": null,
            "overflow_x": null,
            "grid_auto_flow": null,
            "grid_area": null,
            "grid_template_columns": null,
            "flex": null,
            "_model_name": "LayoutModel",
            "justify_items": null,
            "grid_row": null,
            "max_height": null,
            "align_content": null,
            "visibility": null,
            "align_self": null,
            "height": null,
            "min_height": null,
            "padding": null,
            "grid_auto_rows": null,
            "grid_gap": null,
            "max_width": null,
            "order": null,
            "_view_module_version": "1.2.0",
            "grid_template_areas": null,
            "object_position": null,
            "object_fit": null,
            "grid_auto_columns": null,
            "margin": null,
            "display": null,
            "left": null
          }
        },
        "224461d242794f87853dcefb4e1ae2c0": {
          "model_module": "@jupyter-widgets/controls",
          "model_name": "HBoxModel",
          "state": {
            "_view_name": "HBoxView",
            "_dom_classes": [],
            "_model_name": "HBoxModel",
            "_view_module": "@jupyter-widgets/controls",
            "_model_module_version": "1.5.0",
            "_view_count": null,
            "_view_module_version": "1.5.0",
            "box_style": "",
            "layout": "IPY_MODEL_5a531a09fb8f423ebddc35703e660463",
            "_model_module": "@jupyter-widgets/controls",
            "children": [
              "IPY_MODEL_35bfb7a80d6940608fb40f77708bf485",
              "IPY_MODEL_3e2992692aa34ba2b4868a18bc2d83ef"
            ]
          }
        },
        "5a531a09fb8f423ebddc35703e660463": {
          "model_module": "@jupyter-widgets/base",
          "model_name": "LayoutModel",
          "state": {
            "_view_name": "LayoutView",
            "grid_template_rows": null,
            "right": null,
            "justify_content": null,
            "_view_module": "@jupyter-widgets/base",
            "overflow": null,
            "_model_module_version": "1.2.0",
            "_view_count": null,
            "flex_flow": null,
            "width": null,
            "min_width": null,
            "border": null,
            "align_items": null,
            "bottom": null,
            "_model_module": "@jupyter-widgets/base",
            "top": null,
            "grid_column": null,
            "overflow_y": null,
            "overflow_x": null,
            "grid_auto_flow": null,
            "grid_area": null,
            "grid_template_columns": null,
            "flex": null,
            "_model_name": "LayoutModel",
            "justify_items": null,
            "grid_row": null,
            "max_height": null,
            "align_content": null,
            "visibility": null,
            "align_self": null,
            "height": null,
            "min_height": null,
            "padding": null,
            "grid_auto_rows": null,
            "grid_gap": null,
            "max_width": null,
            "order": null,
            "_view_module_version": "1.2.0",
            "grid_template_areas": null,
            "object_position": null,
            "object_fit": null,
            "grid_auto_columns": null,
            "margin": null,
            "display": null,
            "left": null
          }
        },
        "35bfb7a80d6940608fb40f77708bf485": {
          "model_module": "@jupyter-widgets/controls",
          "model_name": "IntProgressModel",
          "state": {
            "_view_name": "ProgressView",
            "style": "IPY_MODEL_1cb17dc129394328b27a65a7246f045c",
            "_dom_classes": [],
            "description": "Downloading",
            "_model_name": "IntProgressModel",
            "bar_style": "success",
            "max": 546,
            "_view_module": "@jupyter-widgets/controls",
            "_model_module_version": "1.5.0",
            "value": 546,
            "_view_count": null,
            "_view_module_version": "1.5.0",
            "orientation": "horizontal",
            "min": 0,
            "description_tooltip": null,
            "_model_module": "@jupyter-widgets/controls",
            "layout": "IPY_MODEL_907f991e9e194b77a949a01b89b297bb"
          }
        },
        "3e2992692aa34ba2b4868a18bc2d83ef": {
          "model_module": "@jupyter-widgets/controls",
          "model_name": "HTMLModel",
          "state": {
            "_view_name": "HTMLView",
            "style": "IPY_MODEL_8587f00239d3444ab48b931837dcd917",
            "_dom_classes": [],
            "description": "",
            "_model_name": "HTMLModel",
            "placeholder": "​",
            "_view_module": "@jupyter-widgets/controls",
            "_model_module_version": "1.5.0",
            "value": "100% 546/546 [00:00&lt;00:00, 22.6kB/s]",
            "_view_count": null,
            "_view_module_version": "1.5.0",
            "description_tooltip": null,
            "_model_module": "@jupyter-widgets/controls",
            "layout": "IPY_MODEL_2bc4006ff8934bda90c1635e58b0e065"
          }
        },
        "1cb17dc129394328b27a65a7246f045c": {
          "model_module": "@jupyter-widgets/controls",
          "model_name": "ProgressStyleModel",
          "state": {
            "_view_name": "StyleView",
            "_model_name": "ProgressStyleModel",
            "description_width": "initial",
            "_view_module": "@jupyter-widgets/base",
            "_model_module_version": "1.5.0",
            "_view_count": null,
            "_view_module_version": "1.2.0",
            "bar_color": null,
            "_model_module": "@jupyter-widgets/controls"
          }
        },
        "907f991e9e194b77a949a01b89b297bb": {
          "model_module": "@jupyter-widgets/base",
          "model_name": "LayoutModel",
          "state": {
            "_view_name": "LayoutView",
            "grid_template_rows": null,
            "right": null,
            "justify_content": null,
            "_view_module": "@jupyter-widgets/base",
            "overflow": null,
            "_model_module_version": "1.2.0",
            "_view_count": null,
            "flex_flow": null,
            "width": null,
            "min_width": null,
            "border": null,
            "align_items": null,
            "bottom": null,
            "_model_module": "@jupyter-widgets/base",
            "top": null,
            "grid_column": null,
            "overflow_y": null,
            "overflow_x": null,
            "grid_auto_flow": null,
            "grid_area": null,
            "grid_template_columns": null,
            "flex": null,
            "_model_name": "LayoutModel",
            "justify_items": null,
            "grid_row": null,
            "max_height": null,
            "align_content": null,
            "visibility": null,
            "align_self": null,
            "height": null,
            "min_height": null,
            "padding": null,
            "grid_auto_rows": null,
            "grid_gap": null,
            "max_width": null,
            "order": null,
            "_view_module_version": "1.2.0",
            "grid_template_areas": null,
            "object_position": null,
            "object_fit": null,
            "grid_auto_columns": null,
            "margin": null,
            "display": null,
            "left": null
          }
        },
        "8587f00239d3444ab48b931837dcd917": {
          "model_module": "@jupyter-widgets/controls",
          "model_name": "DescriptionStyleModel",
          "state": {
            "_view_name": "StyleView",
            "_model_name": "DescriptionStyleModel",
            "description_width": "",
            "_view_module": "@jupyter-widgets/base",
            "_model_module_version": "1.5.0",
            "_view_count": null,
            "_view_module_version": "1.2.0",
            "_model_module": "@jupyter-widgets/controls"
          }
        },
        "2bc4006ff8934bda90c1635e58b0e065": {
          "model_module": "@jupyter-widgets/base",
          "model_name": "LayoutModel",
          "state": {
            "_view_name": "LayoutView",
            "grid_template_rows": null,
            "right": null,
            "justify_content": null,
            "_view_module": "@jupyter-widgets/base",
            "overflow": null,
            "_model_module_version": "1.2.0",
            "_view_count": null,
            "flex_flow": null,
            "width": null,
            "min_width": null,
            "border": null,
            "align_items": null,
            "bottom": null,
            "_model_module": "@jupyter-widgets/base",
            "top": null,
            "grid_column": null,
            "overflow_y": null,
            "overflow_x": null,
            "grid_auto_flow": null,
            "grid_area": null,
            "grid_template_columns": null,
            "flex": null,
            "_model_name": "LayoutModel",
            "justify_items": null,
            "grid_row": null,
            "max_height": null,
            "align_content": null,
            "visibility": null,
            "align_self": null,
            "height": null,
            "min_height": null,
            "padding": null,
            "grid_auto_rows": null,
            "grid_gap": null,
            "max_width": null,
            "order": null,
            "_view_module_version": "1.2.0",
            "grid_template_areas": null,
            "object_position": null,
            "object_fit": null,
            "grid_auto_columns": null,
            "margin": null,
            "display": null,
            "left": null
          }
        },
        "8b4f70c630ea4bd9b36268b5df38cabd": {
          "model_module": "@jupyter-widgets/controls",
          "model_name": "HBoxModel",
          "state": {
            "_view_name": "HBoxView",
            "_dom_classes": [],
            "_model_name": "HBoxModel",
            "_view_module": "@jupyter-widgets/controls",
            "_model_module_version": "1.5.0",
            "_view_count": null,
            "_view_module_version": "1.5.0",
            "box_style": "",
            "layout": "IPY_MODEL_1e857b2470a24329a4b20f0cbfc85983",
            "_model_module": "@jupyter-widgets/controls",
            "children": [
              "IPY_MODEL_cb7e1345de394924b4a715c72011b1a8",
              "IPY_MODEL_862286adf5be4abb99c30ccbccc75a5e"
            ]
          }
        },
        "1e857b2470a24329a4b20f0cbfc85983": {
          "model_module": "@jupyter-widgets/base",
          "model_name": "LayoutModel",
          "state": {
            "_view_name": "LayoutView",
            "grid_template_rows": null,
            "right": null,
            "justify_content": null,
            "_view_module": "@jupyter-widgets/base",
            "overflow": null,
            "_model_module_version": "1.2.0",
            "_view_count": null,
            "flex_flow": null,
            "width": null,
            "min_width": null,
            "border": null,
            "align_items": null,
            "bottom": null,
            "_model_module": "@jupyter-widgets/base",
            "top": null,
            "grid_column": null,
            "overflow_y": null,
            "overflow_x": null,
            "grid_auto_flow": null,
            "grid_area": null,
            "grid_template_columns": null,
            "flex": null,
            "_model_name": "LayoutModel",
            "justify_items": null,
            "grid_row": null,
            "max_height": null,
            "align_content": null,
            "visibility": null,
            "align_self": null,
            "height": null,
            "min_height": null,
            "padding": null,
            "grid_auto_rows": null,
            "grid_gap": null,
            "max_width": null,
            "order": null,
            "_view_module_version": "1.2.0",
            "grid_template_areas": null,
            "object_position": null,
            "object_fit": null,
            "grid_auto_columns": null,
            "margin": null,
            "display": null,
            "left": null
          }
        },
        "cb7e1345de394924b4a715c72011b1a8": {
          "model_module": "@jupyter-widgets/controls",
          "model_name": "IntProgressModel",
          "state": {
            "_view_name": "ProgressView",
            "style": "IPY_MODEL_11fea3c25b7742018948d4aa8fa752f6",
            "_dom_classes": [],
            "description": "Downloading",
            "_model_name": "IntProgressModel",
            "bar_style": "success",
            "max": 267967963,
            "_view_module": "@jupyter-widgets/controls",
            "_model_module_version": "1.5.0",
            "value": 267967963,
            "_view_count": null,
            "_view_module_version": "1.5.0",
            "orientation": "horizontal",
            "min": 0,
            "description_tooltip": null,
            "_model_module": "@jupyter-widgets/controls",
            "layout": "IPY_MODEL_962382e530a6443384b245fb92630198"
          }
        },
        "862286adf5be4abb99c30ccbccc75a5e": {
          "model_module": "@jupyter-widgets/controls",
          "model_name": "HTMLModel",
          "state": {
            "_view_name": "HTMLView",
            "style": "IPY_MODEL_401ac3b7f3814138b806c425433e8d35",
            "_dom_classes": [],
            "description": "",
            "_model_name": "HTMLModel",
            "placeholder": "​",
            "_view_module": "@jupyter-widgets/controls",
            "_model_module_version": "1.5.0",
            "value": "100% 268M/268M [00:03&lt;00:00, 83.8MB/s]",
            "_view_count": null,
            "_view_module_version": "1.5.0",
            "description_tooltip": null,
            "_model_module": "@jupyter-widgets/controls",
            "layout": "IPY_MODEL_733e76d2e8124752bfe5d01404ba3899"
          }
        },
        "11fea3c25b7742018948d4aa8fa752f6": {
          "model_module": "@jupyter-widgets/controls",
          "model_name": "ProgressStyleModel",
          "state": {
            "_view_name": "StyleView",
            "_model_name": "ProgressStyleModel",
            "description_width": "initial",
            "_view_module": "@jupyter-widgets/base",
            "_model_module_version": "1.5.0",
            "_view_count": null,
            "_view_module_version": "1.2.0",
            "bar_color": null,
            "_model_module": "@jupyter-widgets/controls"
          }
        },
        "962382e530a6443384b245fb92630198": {
          "model_module": "@jupyter-widgets/base",
          "model_name": "LayoutModel",
          "state": {
            "_view_name": "LayoutView",
            "grid_template_rows": null,
            "right": null,
            "justify_content": null,
            "_view_module": "@jupyter-widgets/base",
            "overflow": null,
            "_model_module_version": "1.2.0",
            "_view_count": null,
            "flex_flow": null,
            "width": null,
            "min_width": null,
            "border": null,
            "align_items": null,
            "bottom": null,
            "_model_module": "@jupyter-widgets/base",
            "top": null,
            "grid_column": null,
            "overflow_y": null,
            "overflow_x": null,
            "grid_auto_flow": null,
            "grid_area": null,
            "grid_template_columns": null,
            "flex": null,
            "_model_name": "LayoutModel",
            "justify_items": null,
            "grid_row": null,
            "max_height": null,
            "align_content": null,
            "visibility": null,
            "align_self": null,
            "height": null,
            "min_height": null,
            "padding": null,
            "grid_auto_rows": null,
            "grid_gap": null,
            "max_width": null,
            "order": null,
            "_view_module_version": "1.2.0",
            "grid_template_areas": null,
            "object_position": null,
            "object_fit": null,
            "grid_auto_columns": null,
            "margin": null,
            "display": null,
            "left": null
          }
        },
        "401ac3b7f3814138b806c425433e8d35": {
          "model_module": "@jupyter-widgets/controls",
          "model_name": "DescriptionStyleModel",
          "state": {
            "_view_name": "StyleView",
            "_model_name": "DescriptionStyleModel",
            "description_width": "",
            "_view_module": "@jupyter-widgets/base",
            "_model_module_version": "1.5.0",
            "_view_count": null,
            "_view_module_version": "1.2.0",
            "_model_module": "@jupyter-widgets/controls"
          }
        },
        "733e76d2e8124752bfe5d01404ba3899": {
          "model_module": "@jupyter-widgets/base",
          "model_name": "LayoutModel",
          "state": {
            "_view_name": "LayoutView",
            "grid_template_rows": null,
            "right": null,
            "justify_content": null,
            "_view_module": "@jupyter-widgets/base",
            "overflow": null,
            "_model_module_version": "1.2.0",
            "_view_count": null,
            "flex_flow": null,
            "width": null,
            "min_width": null,
            "border": null,
            "align_items": null,
            "bottom": null,
            "_model_module": "@jupyter-widgets/base",
            "top": null,
            "grid_column": null,
            "overflow_y": null,
            "overflow_x": null,
            "grid_auto_flow": null,
            "grid_area": null,
            "grid_template_columns": null,
            "flex": null,
            "_model_name": "LayoutModel",
            "justify_items": null,
            "grid_row": null,
            "max_height": null,
            "align_content": null,
            "visibility": null,
            "align_self": null,
            "height": null,
            "min_height": null,
            "padding": null,
            "grid_auto_rows": null,
            "grid_gap": null,
            "max_width": null,
            "order": null,
            "_view_module_version": "1.2.0",
            "grid_template_areas": null,
            "object_position": null,
            "object_fit": null,
            "grid_auto_columns": null,
            "margin": null,
            "display": null,
            "left": null
          }
        }
      }
    }
  },
  "cells": [
    {
      "cell_type": "markdown",
      "metadata": {
        "id": "_jSXkbKEPhre",
        "colab_type": "text"
      },
      "source": [
        "# Deep Learning for NLP"
      ]
    },
    {
      "cell_type": "markdown",
      "metadata": {
        "id": "94ezOFUz4aZM",
        "colab_type": "text"
      },
      "source": [
        "Silakan download file di bawah ini terlebih dahulu. Ukuran sekitar 800MB."
      ]
    },
    {
      "cell_type": "code",
      "metadata": {
        "id": "YBv6dtbk4GJF",
        "colab_type": "code",
        "outputId": "d9ee1372-2954-4409-ea19-62e0d8d2001d",
        "colab": {
          "base_uri": "https://localhost:8080/",
          "height": 470
        }
      },
      "source": [
        "!wget http://nlp.stanford.edu/data/glove.6B.zip\n",
        "!unzip glove*.zip"
      ],
      "execution_count": 0,
      "outputs": [
        {
          "output_type": "stream",
          "text": [
            "--2020-03-09 08:05:57--  http://nlp.stanford.edu/data/glove.6B.zip\n",
            "Resolving nlp.stanford.edu (nlp.stanford.edu)... 171.64.67.140\n",
            "Connecting to nlp.stanford.edu (nlp.stanford.edu)|171.64.67.140|:80... connected.\n",
            "HTTP request sent, awaiting response... 302 Found\n",
            "Location: https://nlp.stanford.edu/data/glove.6B.zip [following]\n",
            "--2020-03-09 08:05:57--  https://nlp.stanford.edu/data/glove.6B.zip\n",
            "Connecting to nlp.stanford.edu (nlp.stanford.edu)|171.64.67.140|:443... connected.\n",
            "HTTP request sent, awaiting response... 301 Moved Permanently\n",
            "Location: http://downloads.cs.stanford.edu/nlp/data/glove.6B.zip [following]\n",
            "--2020-03-09 08:05:57--  http://downloads.cs.stanford.edu/nlp/data/glove.6B.zip\n",
            "Resolving downloads.cs.stanford.edu (downloads.cs.stanford.edu)... 171.64.64.22\n",
            "Connecting to downloads.cs.stanford.edu (downloads.cs.stanford.edu)|171.64.64.22|:80... connected.\n",
            "HTTP request sent, awaiting response... 200 OK\n",
            "Length: 862182613 (822M) [application/zip]\n",
            "Saving to: ‘glove.6B.zip.1’\n",
            "\n",
            "glove.6B.zip.1      100%[===================>] 822.24M  2.03MB/s    in 6m 28s  \n",
            "\n",
            "2020-03-09 08:12:25 (2.12 MB/s) - ‘glove.6B.zip.1’ saved [862182613/862182613]\n",
            "\n",
            "Archive:  glove.6B.zip\n",
            "  End-of-central-directory signature not found.  Either this file is not\n",
            "  a zipfile, or it constitutes one disk of a multi-part archive.  In the\n",
            "  latter case the central directory and zipfile comment will be found on\n",
            "  the last disk(s) of this archive.\n",
            "unzip:  cannot find zipfile directory in one of glove.6B.zip or\n",
            "        glove.6B.zip.zip, and cannot find glove.6B.zip.ZIP, period.\n"
          ],
          "name": "stdout"
        }
      ]
    },
    {
      "cell_type": "markdown",
      "metadata": {
        "id": "S17mlniR-cS1",
        "colab_type": "text"
      },
      "source": [
        "## Training Word2Vec"
      ]
    },
    {
      "cell_type": "markdown",
      "metadata": {
        "id": "phAZwxNB4uI1",
        "colab_type": "text"
      },
      "source": [
        "Import library yang dibutuhkan."
      ]
    },
    {
      "cell_type": "code",
      "metadata": {
        "id": "zj0VpY6cPyQP",
        "colab_type": "code",
        "colab": {}
      },
      "source": [
        "import re, string \n",
        "import pandas as pd \n",
        "from time import time  \n",
        "from collections import defaultdict\n",
        "import spacy\n",
        "from sklearn.manifold import TSNE\n",
        "import nltk\n",
        "from nltk.corpus import stopwords\n",
        "from gensim.models import Word2Vec\n",
        "from matplotlib import pyplot as plt\n",
        "%matplotlib inline"
      ],
      "execution_count": 0,
      "outputs": []
    },
    {
      "cell_type": "markdown",
      "metadata": {
        "id": "zJFPZtru46dt",
        "colab_type": "text"
      },
      "source": [
        "Download stopwords yang disediakan oleh NLTK. "
      ]
    },
    {
      "cell_type": "code",
      "metadata": {
        "id": "GZrK4XiUSI2e",
        "colab_type": "code",
        "outputId": "7a61ab3b-4787-48d6-f1bf-053aac016604",
        "colab": {
          "base_uri": "https://localhost:8080/",
          "height": 67
        }
      },
      "source": [
        "nltk.download('stopwords')"
      ],
      "execution_count": 0,
      "outputs": [
        {
          "output_type": "stream",
          "text": [
            "[nltk_data] Downloading package stopwords to /root/nltk_data...\n",
            "[nltk_data]   Unzipping corpora/stopwords.zip.\n"
          ],
          "name": "stdout"
        },
        {
          "output_type": "execute_result",
          "data": {
            "text/plain": [
              "True"
            ]
          },
          "metadata": {
            "tags": []
          },
          "execution_count": 2
        }
      ]
    },
    {
      "cell_type": "markdown",
      "metadata": {
        "id": "tfT0Sex_6CaF",
        "colab_type": "text"
      },
      "source": [
        "Saat ini tersedia stopwords untuk 23 bahasa (mungkin bertambah)."
      ]
    },
    {
      "cell_type": "code",
      "metadata": {
        "id": "VIPqLC2r5xct",
        "colab_type": "code",
        "outputId": "92f0103d-33c8-4394-be5a-e58fc1a98751",
        "colab": {
          "base_uri": "https://localhost:8080/",
          "height": 54
        }
      },
      "source": [
        "print(stopwords.fileids())"
      ],
      "execution_count": 0,
      "outputs": [
        {
          "output_type": "stream",
          "text": [
            "['arabic', 'azerbaijani', 'danish', 'dutch', 'english', 'finnish', 'french', 'german', 'greek', 'hungarian', 'indonesian', 'italian', 'kazakh', 'nepali', 'norwegian', 'portuguese', 'romanian', 'russian', 'slovene', 'spanish', 'swedish', 'tajik', 'turkish']\n"
          ],
          "name": "stdout"
        }
      ]
    },
    {
      "cell_type": "code",
      "metadata": {
        "id": "NLIApmc1SXEF",
        "colab_type": "code",
        "colab": {}
      },
      "source": [
        "STOPWORDS = set(stopwords.words('english'))"
      ],
      "execution_count": 0,
      "outputs": []
    },
    {
      "cell_type": "markdown",
      "metadata": {
        "id": "RZ45Tcn9-S54",
        "colab_type": "text"
      },
      "source": [
        "Download dataset bbc news."
      ]
    },
    {
      "cell_type": "code",
      "metadata": {
        "id": "HRWkdBYfRSgh",
        "colab_type": "code",
        "colab": {}
      },
      "source": [
        "url = \"https://storage.googleapis.com/dataset-uploader/bbc/bbc-text.csv\"\n",
        "df = pd.read_csv(url)"
      ],
      "execution_count": 0,
      "outputs": []
    },
    {
      "cell_type": "markdown",
      "metadata": {
        "id": "zZ1Ckrgg-jyA",
        "colab_type": "text"
      },
      "source": [
        "Cek jumlah artikel yang merupakan jumlah baris pada dataframe (`df`)."
      ]
    },
    {
      "cell_type": "code",
      "metadata": {
        "id": "dh3XqD-ecUVP",
        "colab_type": "code",
        "outputId": "90fd5b92-13c8-4791-b4ff-8c2dc6472d0f",
        "colab": {
          "base_uri": "https://localhost:8080/",
          "height": 34
        }
      },
      "source": [
        "len(df)"
      ],
      "execution_count": 0,
      "outputs": [
        {
          "output_type": "execute_result",
          "data": {
            "text/plain": [
              "2225"
            ]
          },
          "metadata": {
            "tags": []
          },
          "execution_count": 6
        }
      ]
    },
    {
      "cell_type": "code",
      "metadata": {
        "id": "RtXjTz65RW7T",
        "colab_type": "code",
        "outputId": "4212734f-ca8b-4851-9464-6f4cf77d4510",
        "colab": {
          "base_uri": "https://localhost:8080/",
          "height": 195
        }
      },
      "source": [
        "df.head()"
      ],
      "execution_count": 0,
      "outputs": [
        {
          "output_type": "execute_result",
          "data": {
            "text/html": [
              "<div>\n",
              "<style scoped>\n",
              "    .dataframe tbody tr th:only-of-type {\n",
              "        vertical-align: middle;\n",
              "    }\n",
              "\n",
              "    .dataframe tbody tr th {\n",
              "        vertical-align: top;\n",
              "    }\n",
              "\n",
              "    .dataframe thead th {\n",
              "        text-align: right;\n",
              "    }\n",
              "</style>\n",
              "<table border=\"1\" class=\"dataframe\">\n",
              "  <thead>\n",
              "    <tr style=\"text-align: right;\">\n",
              "      <th></th>\n",
              "      <th>category</th>\n",
              "      <th>text</th>\n",
              "    </tr>\n",
              "  </thead>\n",
              "  <tbody>\n",
              "    <tr>\n",
              "      <th>0</th>\n",
              "      <td>tech</td>\n",
              "      <td>tv future in the hands of viewers with home th...</td>\n",
              "    </tr>\n",
              "    <tr>\n",
              "      <th>1</th>\n",
              "      <td>business</td>\n",
              "      <td>worldcom boss  left books alone  former worldc...</td>\n",
              "    </tr>\n",
              "    <tr>\n",
              "      <th>2</th>\n",
              "      <td>sport</td>\n",
              "      <td>tigers wary of farrell  gamble  leicester say ...</td>\n",
              "    </tr>\n",
              "    <tr>\n",
              "      <th>3</th>\n",
              "      <td>sport</td>\n",
              "      <td>yeading face newcastle in fa cup premiership s...</td>\n",
              "    </tr>\n",
              "    <tr>\n",
              "      <th>4</th>\n",
              "      <td>entertainment</td>\n",
              "      <td>ocean s twelve raids box office ocean s twelve...</td>\n",
              "    </tr>\n",
              "  </tbody>\n",
              "</table>\n",
              "</div>"
            ],
            "text/plain": [
              "        category                                               text\n",
              "0           tech  tv future in the hands of viewers with home th...\n",
              "1       business  worldcom boss  left books alone  former worldc...\n",
              "2          sport  tigers wary of farrell  gamble  leicester say ...\n",
              "3          sport  yeading face newcastle in fa cup premiership s...\n",
              "4  entertainment  ocean s twelve raids box office ocean s twelve..."
            ]
          },
          "metadata": {
            "tags": []
          },
          "execution_count": 7
        }
      ]
    },
    {
      "cell_type": "markdown",
      "metadata": {
        "id": "2Obq0qUC-6VQ",
        "colab_type": "text"
      },
      "source": [
        "Bersihkan data, dan hilangkan stopwords."
      ]
    },
    {
      "cell_type": "code",
      "metadata": {
        "id": "BSGExrl9RaEd",
        "colab_type": "code",
        "colab": {}
      },
      "source": [
        "def clean_text(text):\n",
        "    '''Make text lowercase, remove text in square brackets, remove punctuation and remove words containing numbers.'''\n",
        "    text = text.lower()\n",
        "    text = re.sub(r'\\[.*?\\]', '', text)\n",
        "    text = re.sub(r'[%s]' % re.escape(string.punctuation), '', text)\n",
        "    text = re.sub(r'\\w*\\d\\w*', '', text)\n",
        "    # Remove a sentence if it is only one word long\n",
        "    if len(text) > 2:\n",
        "        return ' '.join(word for word in text.split() if word not in STOPWORDS)\n",
        "\n",
        "df_clean = df.copy()\n",
        "df_clean['text'] = pd.DataFrame(df.text.apply(lambda x: clean_text(x)))"
      ],
      "execution_count": 0,
      "outputs": []
    },
    {
      "cell_type": "code",
      "metadata": {
        "id": "GB3lm9UzSjr3",
        "colab_type": "code",
        "outputId": "34142d96-a0c9-47fe-8852-7a8b9320d598",
        "colab": {
          "base_uri": "https://localhost:8080/",
          "height": 195
        }
      },
      "source": [
        "df_clean.head()"
      ],
      "execution_count": 0,
      "outputs": [
        {
          "output_type": "execute_result",
          "data": {
            "text/html": [
              "<div>\n",
              "<style scoped>\n",
              "    .dataframe tbody tr th:only-of-type {\n",
              "        vertical-align: middle;\n",
              "    }\n",
              "\n",
              "    .dataframe tbody tr th {\n",
              "        vertical-align: top;\n",
              "    }\n",
              "\n",
              "    .dataframe thead th {\n",
              "        text-align: right;\n",
              "    }\n",
              "</style>\n",
              "<table border=\"1\" class=\"dataframe\">\n",
              "  <thead>\n",
              "    <tr style=\"text-align: right;\">\n",
              "      <th></th>\n",
              "      <th>category</th>\n",
              "      <th>text</th>\n",
              "    </tr>\n",
              "  </thead>\n",
              "  <tbody>\n",
              "    <tr>\n",
              "      <th>0</th>\n",
              "      <td>tech</td>\n",
              "      <td>tv future hands viewers home theatre systems p...</td>\n",
              "    </tr>\n",
              "    <tr>\n",
              "      <th>1</th>\n",
              "      <td>business</td>\n",
              "      <td>worldcom boss left books alone former worldcom...</td>\n",
              "    </tr>\n",
              "    <tr>\n",
              "      <th>2</th>\n",
              "      <td>sport</td>\n",
              "      <td>tigers wary farrell gamble leicester say rushe...</td>\n",
              "    </tr>\n",
              "    <tr>\n",
              "      <th>3</th>\n",
              "      <td>sport</td>\n",
              "      <td>yeading face newcastle fa cup premiership side...</td>\n",
              "    </tr>\n",
              "    <tr>\n",
              "      <th>4</th>\n",
              "      <td>entertainment</td>\n",
              "      <td>ocean twelve raids box office ocean twelve cri...</td>\n",
              "    </tr>\n",
              "  </tbody>\n",
              "</table>\n",
              "</div>"
            ],
            "text/plain": [
              "        category                                               text\n",
              "0           tech  tv future hands viewers home theatre systems p...\n",
              "1       business  worldcom boss left books alone former worldcom...\n",
              "2          sport  tigers wary farrell gamble leicester say rushe...\n",
              "3          sport  yeading face newcastle fa cup premiership side...\n",
              "4  entertainment  ocean twelve raids box office ocean twelve cri..."
            ]
          },
          "metadata": {
            "tags": []
          },
          "execution_count": 9
        }
      ]
    },
    {
      "cell_type": "markdown",
      "metadata": {
        "id": "D1MmXBXi_Bxh",
        "colab_type": "text"
      },
      "source": [
        "Terapkan lematisasi menggunakan library spacy. Cek https://spacy.io/"
      ]
    },
    {
      "cell_type": "code",
      "metadata": {
        "id": "-OlmEOmiSuHv",
        "colab_type": "code",
        "colab": {}
      },
      "source": [
        "nlp = spacy.load('en', disable=['ner', 'parser']) # disabling Named Entity Recognition for speed\n",
        "\n",
        "def lemmatizer(text):        \n",
        "    sent = []\n",
        "    doc = nlp(text)\n",
        "    for word in doc:\n",
        "        sent.append(word.lemma_)\n",
        "    return \" \".join(sent)\n",
        "\n",
        "df_clean[\"text_lemmatize\"] =  df_clean.apply(lambda x: lemmatizer(x['text']), axis=1)"
      ],
      "execution_count": 0,
      "outputs": []
    },
    {
      "cell_type": "code",
      "metadata": {
        "id": "IRxhNetqTK_i",
        "colab_type": "code",
        "outputId": "1bf620f3-fae2-41e2-dc64-2e512cef7576",
        "colab": {
          "base_uri": "https://localhost:8080/",
          "height": 195
        }
      },
      "source": [
        "df_clean.head()"
      ],
      "execution_count": 0,
      "outputs": [
        {
          "output_type": "execute_result",
          "data": {
            "text/html": [
              "<div>\n",
              "<style scoped>\n",
              "    .dataframe tbody tr th:only-of-type {\n",
              "        vertical-align: middle;\n",
              "    }\n",
              "\n",
              "    .dataframe tbody tr th {\n",
              "        vertical-align: top;\n",
              "    }\n",
              "\n",
              "    .dataframe thead th {\n",
              "        text-align: right;\n",
              "    }\n",
              "</style>\n",
              "<table border=\"1\" class=\"dataframe\">\n",
              "  <thead>\n",
              "    <tr style=\"text-align: right;\">\n",
              "      <th></th>\n",
              "      <th>category</th>\n",
              "      <th>text</th>\n",
              "      <th>text_lemmatize</th>\n",
              "    </tr>\n",
              "  </thead>\n",
              "  <tbody>\n",
              "    <tr>\n",
              "      <th>0</th>\n",
              "      <td>tech</td>\n",
              "      <td>tv future hands viewers home theatre systems p...</td>\n",
              "      <td>tv future hand viewer home theatre system plas...</td>\n",
              "    </tr>\n",
              "    <tr>\n",
              "      <th>1</th>\n",
              "      <td>business</td>\n",
              "      <td>worldcom boss left books alone former worldcom...</td>\n",
              "      <td>worldcom boss leave book alone former worldcom...</td>\n",
              "    </tr>\n",
              "    <tr>\n",
              "      <th>2</th>\n",
              "      <td>sport</td>\n",
              "      <td>tigers wary farrell gamble leicester say rushe...</td>\n",
              "      <td>tiger wary farrell gamble leicester say rush m...</td>\n",
              "    </tr>\n",
              "    <tr>\n",
              "      <th>3</th>\n",
              "      <td>sport</td>\n",
              "      <td>yeading face newcastle fa cup premiership side...</td>\n",
              "      <td>yeade face newcastle fa cup premiership side n...</td>\n",
              "    </tr>\n",
              "    <tr>\n",
              "      <th>4</th>\n",
              "      <td>entertainment</td>\n",
              "      <td>ocean twelve raids box office ocean twelve cri...</td>\n",
              "      <td>ocean twelve raid box office ocean twelve crim...</td>\n",
              "    </tr>\n",
              "  </tbody>\n",
              "</table>\n",
              "</div>"
            ],
            "text/plain": [
              "        category  ...                                     text_lemmatize\n",
              "0           tech  ...  tv future hand viewer home theatre system plas...\n",
              "1       business  ...  worldcom boss leave book alone former worldcom...\n",
              "2          sport  ...  tiger wary farrell gamble leicester say rush m...\n",
              "3          sport  ...  yeade face newcastle fa cup premiership side n...\n",
              "4  entertainment  ...  ocean twelve raid box office ocean twelve crim...\n",
              "\n",
              "[5 rows x 3 columns]"
            ]
          },
          "metadata": {
            "tags": []
          },
          "execution_count": 11
        }
      ]
    },
    {
      "cell_type": "code",
      "metadata": {
        "id": "gZXJkKZETTAg",
        "colab_type": "code",
        "outputId": "7b1862ca-f987-43dd-c434-6245e06e05f8",
        "colab": {
          "base_uri": "https://localhost:8080/",
          "height": 54
        }
      },
      "source": [
        "df_clean[\"text\"][0]"
      ],
      "execution_count": 0,
      "outputs": [
        {
          "output_type": "execute_result",
          "data": {
            "text/plain": [
              "'tv future hands viewers home theatre systems plasma highdefinition tvs digital video recorders moving living room way people watch tv radically different five years time according expert panel gathered annual consumer electronics show las vegas discuss new technologies impact one favourite pastimes us leading trend programmes content delivered viewers via home networks cable satellite telecoms companies broadband service providers front rooms portable devices one talkedabout technologies ces digital personal video recorders dvr pvr settop boxes like us tivo uk sky system allow people record store play pause forward wind tv programmes want essentially technology allows much personalised tv also builtin highdefinition tv sets big business japan us slower take europe lack highdefinition programming people forward wind adverts also forget abiding network channel schedules putting together alacarte entertainment us networks cable satellite companies worried means terms advertising revenues well brand identity viewer loyalty channels although us leads technology moment also concern raised europe particularly growing uptake services like sky happens today see nine months years time uk adam hume bbc broadcast futurologist told bbc news website likes bbc issues lost advertising revenue yet pressing issue moment commercial uk broadcasters brand loyalty important everyone talking content brands rather network brands said tim hanlon brand communications firm starcom mediavest reality broadband connections anybody producer content added challenge hard promote programme much choice means said stacey jolna senior vice president tv guide tv group way people find content want watch simplified tv viewers means networks us terms channels could take leaf google book search engine future instead scheduler help people find want watch kind channel model might work younger ipod generation used taking control gadgets play might suit everyone panel recognised older generations comfortable familiar schedules channel brands know getting perhaps want much choice put hands mr hanlon suggested end kids diapers pushing buttons already everything possible available said mr hanlon ultimately consumer tell market want new gadgets technologies showcased ces many enhancing tvwatching experience highdefinition tv sets everywhere many new models lcd liquid crystal display tvs launched dvr capability built instead external boxes one example launched show humax lcd tv tivo dvr dvd recorder one us biggest satellite tv companies directtv even launched branded dvr show recording capability instant replay search function set pause rewind tv hours microsoft chief bill gates announced preshow keynote speech partnership tivo called tivotogo means people play recorded programmes windows pcs mobile devices reflect increasing trend freeing multimedia people watch want want'"
            ]
          },
          "metadata": {
            "tags": []
          },
          "execution_count": 12
        }
      ]
    },
    {
      "cell_type": "code",
      "metadata": {
        "id": "f5iJ3uGxTnEi",
        "colab_type": "code",
        "outputId": "dad15b7c-dcf5-4c2d-bc74-ee6c975c860d",
        "colab": {
          "base_uri": "https://localhost:8080/",
          "height": 54
        }
      },
      "source": [
        "df_clean[\"text_lemmatize\"][0]"
      ],
      "execution_count": 0,
      "outputs": [
        {
          "output_type": "execute_result",
          "data": {
            "text/plain": [
              "'tv future hand viewer home theatre system plasma highdefinition tvs digital video recorder move living room way people watch tv radically different five year time accord expert panel gather annual consumer electronic show las vegas discuss new technology impact one favourite pastime -PRON- lead trend programme content deliver viewer via home network cable satellite telecom company broadband service provider front room portable device one talkedabout technology ce digital personal video recorder dvr pvr settop box like -PRON- tivo uk sky system allow people record store play pause forward wind tv programme want essentially technology allow much personalised tv also builtin highdefinition tv set big business japan -PRON- slow take europe lack highdefinition program people forward wind advert also forget abide network channel schedule put together alacarte entertainment -PRON- network cable satellite company worry mean term advertising revenue well brand identity viewer loyalty channel although -PRON- lead technology moment also concern raise europe particularly grow uptake service like sky happen today see nine month year time uk adam hume bbc broadcast futurologist tell bbc news website like bbc issue lose advertising revenue yet press issue moment commercial uk broadcaster brand loyalty important everyone talk content brand rather network brand say tim hanlon brand communication firm starcom mediav reality broadband connection anybody producer content add challenge hard promote programme much choice mean say stacey jolna senior vice president tv guide tv group way people find content want watch simplify tv viewer mean network -PRON- term channel could take leaf google book search engine future instead scheduler help people find want watch kind channel model may work young ipod generation use take control gadget play may suit everyone panel recognise old generation comfortable familiar schedule channel brand know get perhaps want much choice put hand mr hanlon suggest end kid diaper push button already everything possible available say mr hanlon ultimately consumer tell market want new gadget technology showcased ce many enhance tvwatche experience highdefinition tv set everywhere many new model lcd liquid crystal display tvs launch dvr capability build instead external box one example launch show humax lcd tv tivo dvr dvd recorder one -PRON- big satellite tv company directtv even launch brand dvr show record capability instant replay search function set pause rewind tv hour microsoft chief bill gate announce preshow keynote speech partnership tivo call tivotogo mean people play record programme window pcs mobile device reflect increase trend free multimedia people watch want want'"
            ]
          },
          "metadata": {
            "tags": []
          },
          "execution_count": 13
        }
      ]
    },
    {
      "cell_type": "markdown",
      "metadata": {
        "id": "xEQO2kVAAt6q",
        "colab_type": "text"
      },
      "source": [
        "Persiapkan list `sentences`, yang berisi list kata pada tiap kalimat.  \n",
        "Dari `['saya dan dia', 'kamu dan mereka']` menjadi `[['saya', 'dan', 'dia'], ['kamu', 'dan', 'mereka']`."
      ]
    },
    {
      "cell_type": "code",
      "metadata": {
        "id": "SqlBfFjYT1Aj",
        "colab_type": "code",
        "outputId": "3c6e97ec-552c-4749-a1e2-738df7060b5b",
        "colab": {
          "base_uri": "https://localhost:8080/",
          "height": 34
        }
      },
      "source": [
        "sentences = [row.split() for row in df_clean['text_lemmatize']]\n",
        "word_freq = defaultdict(int)\n",
        "for sent in sentences:\n",
        "    for i in sent:\n",
        "        word_freq[i] += 1\n",
        "len(word_freq)"
      ],
      "execution_count": 0,
      "outputs": [
        {
          "output_type": "execute_result",
          "data": {
            "text/plain": [
              "24582"
            ]
          },
          "metadata": {
            "tags": []
          },
          "execution_count": 14
        }
      ]
    },
    {
      "cell_type": "markdown",
      "metadata": {
        "id": "2p8fjO-mAj9M",
        "colab_type": "text"
      },
      "source": [
        "Top-10 kata dengan jumlah kemunculan tertinggi."
      ]
    },
    {
      "cell_type": "code",
      "metadata": {
        "id": "84UHyM5yUIMF",
        "colab_type": "code",
        "outputId": "314125af-0a6b-4fb5-a3c9-632ee2b2cd05",
        "colab": {
          "base_uri": "https://localhost:8080/",
          "height": 185
        }
      },
      "source": [
        "sorted(word_freq, key=word_freq.get, reverse=True)[:10]"
      ],
      "execution_count": 0,
      "outputs": [
        {
          "output_type": "execute_result",
          "data": {
            "text/plain": [
              "['say',\n",
              " 'mr',\n",
              " 'year',\n",
              " 'would',\n",
              " 'make',\n",
              " 'also',\n",
              " 'people',\n",
              " '-PRON-',\n",
              " 'new',\n",
              " 'one']"
            ]
          },
          "metadata": {
            "tags": []
          },
          "execution_count": 15
        }
      ]
    },
    {
      "cell_type": "markdown",
      "metadata": {
        "id": "ZEyE0_v0PgLE",
        "colab_type": "text"
      },
      "source": [
        "Buat objek dari constructor Word2Vec."
      ]
    },
    {
      "cell_type": "code",
      "metadata": {
        "id": "LQLDiDnUVQ0x",
        "colab_type": "code",
        "colab": {}
      },
      "source": [
        "# min_count: minimum number of occurrences of a word in the corpus to be included in the model.\n",
        "# window: the maximum distance between the current and predicted word within a sentence.\n",
        "# size: the dimensionality of the feature vectors\n",
        "# workers: number of workers, \n",
        "w2v_model = Word2Vec(min_count=200,\n",
        "                     window=5,\n",
        "                     size=100,\n",
        "                     workers=4,\n",
        "                     sg=1)"
      ],
      "execution_count": 0,
      "outputs": []
    },
    {
      "cell_type": "markdown",
      "metadata": {
        "id": "CzVDuQAsPoDE",
        "colab_type": "text"
      },
      "source": [
        "Bangun vocabulary."
      ]
    },
    {
      "cell_type": "code",
      "metadata": {
        "id": "fA0qKc6LVZLO",
        "colab_type": "code",
        "colab": {}
      },
      "source": [
        "# this line of code to prepare the model vocabulary\n",
        "w2v_model.build_vocab(sentences)"
      ],
      "execution_count": 0,
      "outputs": []
    },
    {
      "cell_type": "markdown",
      "metadata": {
        "id": "dQbB94_PPwki",
        "colab_type": "text"
      },
      "source": [
        "Train word2vec model."
      ]
    },
    {
      "cell_type": "code",
      "metadata": {
        "id": "p85SjhcqVh7V",
        "colab_type": "code",
        "outputId": "a83982d4-4440-4cef-d22a-338a73f95ce9",
        "colab": {
          "base_uri": "https://localhost:8080/",
          "height": 67
        }
      },
      "source": [
        "# train word vectors\n",
        "w2v_model.train(sentences, total_examples=w2v_model.corpus_count, epochs=w2v_model.iter)"
      ],
      "execution_count": 0,
      "outputs": [
        {
          "output_type": "stream",
          "text": [
            "/usr/local/lib/python3.6/dist-packages/ipykernel_launcher.py:1: DeprecationWarning: Call to deprecated `iter` (Attribute will be removed in 4.0.0, use self.epochs instead).\n",
            "  \"\"\"Entry point for launching an IPython kernel.\n"
          ],
          "name": "stderr"
        },
        {
          "output_type": "execute_result",
          "data": {
            "text/plain": [
              "(986255, 2390515)"
            ]
          },
          "metadata": {
            "tags": []
          },
          "execution_count": 18
        }
      ]
    },
    {
      "cell_type": "code",
      "metadata": {
        "id": "Y3o1Z6zkVkyE",
        "colab_type": "code",
        "outputId": "4df66434-3976-495b-aa26-16e0b5c1a03e",
        "colab": {
          "base_uri": "https://localhost:8080/",
          "height": 238
        }
      },
      "source": [
        "# Explore the model\n",
        "w2v_model.wv.most_similar(positive=['money'])"
      ],
      "execution_count": 0,
      "outputs": [
        {
          "output_type": "stream",
          "text": [
            "/usr/local/lib/python3.6/dist-packages/gensim/matutils.py:737: FutureWarning: Conversion of the second argument of issubdtype from `int` to `np.signedinteger` is deprecated. In future, it will be treated as `np.int64 == np.dtype(int).type`.\n",
            "  if np.issubdtype(vec.dtype, np.int):\n"
          ],
          "name": "stderr"
        },
        {
          "output_type": "execute_result",
          "data": {
            "text/plain": [
              "[('fund', 0.7607400417327881),\n",
              " ('raise', 0.6546962261199951),\n",
              " ('tax', 0.6127241849899292),\n",
              " ('pay', 0.6110708713531494),\n",
              " ('spend', 0.5930384397506714),\n",
              " ('much', 0.5794631242752075),\n",
              " ('buy', 0.5714608430862427),\n",
              " ('account', 0.5585447549819946),\n",
              " ('investment', 0.5525429248809814),\n",
              " ('rather', 0.5379403233528137)]"
            ]
          },
          "metadata": {
            "tags": []
          },
          "execution_count": 29
        }
      ]
    },
    {
      "cell_type": "code",
      "metadata": {
        "id": "lBlcresgYcuY",
        "colab_type": "code",
        "outputId": "f1c322d7-18c2-47d8-f590-81d36b83b943",
        "colab": {
          "base_uri": "https://localhost:8080/",
          "height": 238
        }
      },
      "source": [
        "w2v_model.wv.most_similar(positive=['tv'])"
      ],
      "execution_count": 0,
      "outputs": [
        {
          "output_type": "stream",
          "text": [
            "/usr/local/lib/python3.6/dist-packages/gensim/matutils.py:737: FutureWarning: Conversion of the second argument of issubdtype from `int` to `np.signedinteger` is deprecated. In future, it will be treated as `np.int64 == np.dtype(int).type`.\n",
            "  if np.issubdtype(vec.dtype, np.int):\n"
          ],
          "name": "stderr"
        },
        {
          "output_type": "execute_result",
          "data": {
            "text/plain": [
              "[('digital', 0.6921852827072144),\n",
              " ('programme', 0.6774712800979614),\n",
              " ('content', 0.6237472891807556),\n",
              " ('series', 0.5887148380279541),\n",
              " ('life', 0.5806448459625244),\n",
              " ('broadband', 0.5741336345672607),\n",
              " ('music', 0.566057562828064),\n",
              " ('network', 0.5649639964103699),\n",
              " ('standard', 0.5641554594039917),\n",
              " ('radio', 0.5622063875198364)]"
            ]
          },
          "metadata": {
            "tags": []
          },
          "execution_count": 20
        }
      ]
    },
    {
      "cell_type": "code",
      "metadata": {
        "id": "rKvb0UZbYor3",
        "colab_type": "code",
        "outputId": "d1ac628c-303f-4b99-fdfe-47fe764c77e7",
        "colab": {
          "base_uri": "https://localhost:8080/",
          "height": 87
        }
      },
      "source": [
        "w2v_model.wv.similarity('device', 'digital')"
      ],
      "execution_count": 0,
      "outputs": [
        {
          "output_type": "stream",
          "text": [
            "/usr/local/lib/python3.6/dist-packages/gensim/matutils.py:737: FutureWarning: Conversion of the second argument of issubdtype from `int` to `np.signedinteger` is deprecated. In future, it will be treated as `np.int64 == np.dtype(int).type`.\n",
            "  if np.issubdtype(vec.dtype, np.int):\n"
          ],
          "name": "stderr"
        },
        {
          "output_type": "execute_result",
          "data": {
            "text/plain": [
              "0.7601628"
            ]
          },
          "metadata": {
            "tags": []
          },
          "execution_count": 28
        }
      ]
    },
    {
      "cell_type": "code",
      "metadata": {
        "id": "bfkClHdZZYXZ",
        "colab_type": "code",
        "outputId": "6cb55771-2476-403c-8658-fb707fad232f",
        "colab": {
          "base_uri": "https://localhost:8080/",
          "height": 423
        }
      },
      "source": [
        "w2v_model['money']"
      ],
      "execution_count": 0,
      "outputs": [
        {
          "output_type": "stream",
          "text": [
            "/usr/local/lib/python3.6/dist-packages/ipykernel_launcher.py:1: DeprecationWarning: Call to deprecated `__getitem__` (Method will be removed in 4.0.0, use self.wv.__getitem__() instead).\n",
            "  \"\"\"Entry point for launching an IPython kernel.\n"
          ],
          "name": "stderr"
        },
        {
          "output_type": "execute_result",
          "data": {
            "text/plain": [
              "array([ 0.282635  , -0.4190822 , -0.17965409,  0.05766556,  0.08315329,\n",
              "        0.03992703,  0.11463436,  0.18855196, -0.0735189 , -0.0617126 ,\n",
              "        0.27408496,  0.2249843 ,  0.11802156, -0.03378496,  0.3403971 ,\n",
              "        0.05966548,  0.14903164,  0.27216232,  0.29331425, -0.07123836,\n",
              "        0.18961836, -0.13166592, -0.34072858,  0.20885633,  0.47435486,\n",
              "        0.04439577,  0.15138686,  0.20626725, -0.09365702, -0.04194044,\n",
              "       -0.02736716, -0.10469677,  0.18554397,  0.09250008, -0.26584542,\n",
              "        0.01917009,  0.09301648, -0.36838168,  0.17212456, -0.28467995,\n",
              "       -0.00576672,  0.0629783 ,  0.3337321 ,  0.34882158, -0.13269196,\n",
              "       -0.01342163, -0.09792556, -0.11088574, -0.08768423, -0.49677008,\n",
              "       -0.40698883, -0.01262065, -0.45261428,  0.09438347, -0.13467647,\n",
              "        0.2135769 ,  0.06923588,  0.31464404,  0.02240152,  0.35100564,\n",
              "       -0.00274835,  0.26037797, -0.07927017,  0.0141255 ,  0.2030855 ,\n",
              "       -0.10895165,  0.2609591 , -0.0808733 , -0.2936611 , -0.04635265,\n",
              "       -0.25628695,  0.15571032, -0.11677565,  0.31373003,  0.19881935,\n",
              "       -0.18649049,  0.12367339,  0.07787061,  0.03623709,  0.00388566,\n",
              "        0.07125825, -0.04387109, -0.04915046,  0.14475088,  0.08542831,\n",
              "       -0.08360463, -0.14606464,  0.2141966 ,  0.27380875, -0.22476128,\n",
              "       -0.0623517 , -0.04451033,  0.0012821 ,  0.05814214, -0.16822292,\n",
              "       -0.02730007,  0.2170441 , -0.17921858, -0.3523892 ,  0.35041526],\n",
              "      dtype=float32)"
            ]
          },
          "metadata": {
            "tags": []
          },
          "execution_count": 30
        }
      ]
    },
    {
      "cell_type": "code",
      "metadata": {
        "id": "tdq1L_B-ZklF",
        "colab_type": "code",
        "outputId": "bd82f331-a250-4761-815b-85120df03a19",
        "colab": {
          "base_uri": "https://localhost:8080/",
          "height": 87
        }
      },
      "source": [
        "w2v_model['gadget'].shape"
      ],
      "execution_count": 0,
      "outputs": [
        {
          "output_type": "stream",
          "text": [
            "/usr/local/lib/python3.6/dist-packages/ipykernel_launcher.py:1: DeprecationWarning: Call to deprecated `__getitem__` (Method will be removed in 4.0.0, use self.wv.__getitem__() instead).\n",
            "  \"\"\"Entry point for launching an IPython kernel.\n"
          ],
          "name": "stderr"
        },
        {
          "output_type": "execute_result",
          "data": {
            "text/plain": [
              "(100,)"
            ]
          },
          "metadata": {
            "tags": []
          },
          "execution_count": 23
        }
      ]
    },
    {
      "cell_type": "markdown",
      "metadata": {
        "id": "GlwqMD4TtSfz",
        "colab_type": "text"
      },
      "source": [
        "## Text Classification with LSTM"
      ]
    },
    {
      "cell_type": "markdown",
      "metadata": {
        "id": "fqgEFXhdP_ms",
        "colab_type": "text"
      },
      "source": [
        "Kali ini kita akan coba menggunakan LSTM untuk melakukan klasifikasi teks."
      ]
    },
    {
      "cell_type": "code",
      "metadata": {
        "id": "4MclTSZFZwp4",
        "colab_type": "code",
        "outputId": "f615ae38-cf87-4dd6-fcee-7f04f2463595",
        "colab": {
          "base_uri": "https://localhost:8080/",
          "height": 62
        }
      },
      "source": [
        "import tensorflow as tf\n",
        "import numpy as np\n",
        "from tensorflow.keras.preprocessing.text import Tokenizer\n",
        "from tensorflow.keras.preprocessing.sequence import pad_sequences\n"
      ],
      "execution_count": 0,
      "outputs": [
        {
          "output_type": "display_data",
          "data": {
            "text/html": [
              "<p style=\"color: red;\">\n",
              "The default version of TensorFlow in Colab will soon switch to TensorFlow 2.x.<br>\n",
              "We recommend you <a href=\"https://www.tensorflow.org/guide/migrate\" target=\"_blank\">upgrade</a> now \n",
              "or ensure your notebook will continue to use TensorFlow 1.x via the <code>%tensorflow_version 1.x</code> magic:\n",
              "<a href=\"https://colab.research.google.com/notebooks/tensorflow_version.ipynb\" target=\"_blank\">more info</a>.</p>\n"
            ],
            "text/plain": [
              "<IPython.core.display.HTML object>"
            ]
          },
          "metadata": {
            "tags": []
          }
        }
      ]
    },
    {
      "cell_type": "markdown",
      "metadata": {
        "id": "R1ywrQw-Bp8h",
        "colab_type": "text"
      },
      "source": [
        "`vocab_size`: hanya menggunakan top-5000 vocab dari total 24582. Hal ini untuk mempercepat waktu training.  \n",
        "`embedding_dim`: dimensi vektor representasi setiap token.  \n",
        "`max_length`: maksimal jumlah token dalam satu artikel/sample data.  \n",
        "`trunc_type = post`: jika melebihi `max_length`, pemotongan dilakukan di bagian akhir.  \n",
        "`oov_tok`: pengganti token yang tidak ada dalam vocab.\n",
        "\n",
        "*Sebaiknya menyebutkan token atau kata?*"
      ]
    },
    {
      "cell_type": "code",
      "metadata": {
        "id": "7ltMUkNic9mS",
        "colab_type": "code",
        "colab": {}
      },
      "source": [
        "vocab_size = 5000\n",
        "embedding_dim = 64\n",
        "max_length = 200\n",
        "trunc_type = 'post'\n",
        "padding_type = 'post'\n",
        "oov_tok = '<OOV>'\n",
        "training_portion = .8"
      ],
      "execution_count": 0,
      "outputs": []
    },
    {
      "cell_type": "markdown",
      "metadata": {
        "id": "c5aPPDfhDnYT",
        "colab_type": "text"
      },
      "source": [
        "Split data menjadi 80% training dan 20% validasi."
      ]
    },
    {
      "cell_type": "code",
      "metadata": {
        "id": "C_2fvkAxdmYS",
        "colab_type": "code",
        "colab": {}
      },
      "source": [
        "train_size = int(len(df_clean) * training_portion)\n",
        "train_set = df_clean[0: train_size]\n",
        "validation_set = df_clean[train_size:]"
      ],
      "execution_count": 0,
      "outputs": []
    },
    {
      "cell_type": "code",
      "metadata": {
        "id": "OYRei0Uddva8",
        "colab_type": "code",
        "outputId": "49a6b8cd-83f5-4871-80c3-c294c304e2ea",
        "colab": {
          "base_uri": "https://localhost:8080/",
          "height": 34
        }
      },
      "source": [
        "len(train_set), len(validation_set)"
      ],
      "execution_count": 0,
      "outputs": [
        {
          "output_type": "execute_result",
          "data": {
            "text/plain": [
              "(1780, 445)"
            ]
          },
          "metadata": {
            "tags": []
          },
          "execution_count": 27
        }
      ]
    },
    {
      "cell_type": "markdown",
      "metadata": {
        "id": "Pb4R_MKaD14N",
        "colab_type": "text"
      },
      "source": [
        "Tokenisasi menggunakan library `keras`. Fit `tokenizer` **hanya pada training set**."
      ]
    },
    {
      "cell_type": "code",
      "metadata": {
        "id": "o9F0zUrUdxTI",
        "colab_type": "code",
        "colab": {}
      },
      "source": [
        "tokenizer = Tokenizer(num_words = vocab_size, oov_token=oov_tok)\n",
        "tokenizer.fit_on_texts(train_set[\"text\"])\n",
        "word_index = tokenizer.word_index"
      ],
      "execution_count": 0,
      "outputs": []
    },
    {
      "cell_type": "code",
      "metadata": {
        "id": "hIks7Z3weQFZ",
        "colab_type": "code",
        "outputId": "19697db6-0380-48d4-abf3-d861d3e1e5e2",
        "colab": {
          "base_uri": "https://localhost:8080/",
          "height": 185
        }
      },
      "source": [
        "list(word_index.items())[0:10]"
      ],
      "execution_count": 0,
      "outputs": [
        {
          "output_type": "execute_result",
          "data": {
            "text/plain": [
              "[('<OOV>', 1),\n",
              " ('said', 2),\n",
              " ('mr', 3),\n",
              " ('would', 4),\n",
              " ('also', 5),\n",
              " ('people', 6),\n",
              " ('new', 7),\n",
              " ('us', 8),\n",
              " ('year', 9),\n",
              " ('one', 10)]"
            ]
          },
          "metadata": {
            "tags": []
          },
          "execution_count": 32
        }
      ]
    },
    {
      "cell_type": "markdown",
      "metadata": {
        "id": "3aX_M2vlEw2Q",
        "colab_type": "text"
      },
      "source": [
        "Encode sekuen token ke dalam sekuen id."
      ]
    },
    {
      "cell_type": "code",
      "metadata": {
        "id": "Qpt6CnOkeUJx",
        "colab_type": "code",
        "colab": {}
      },
      "source": [
        "train_sequences = tokenizer.texts_to_sequences(train_set[\"text\"])"
      ],
      "execution_count": 0,
      "outputs": []
    },
    {
      "cell_type": "code",
      "metadata": {
        "id": "5JF_kuJpe06O",
        "colab_type": "code",
        "outputId": "abb3c1d5-700c-44ea-88c0-050d9dce8867",
        "colab": {
          "base_uri": "https://localhost:8080/",
          "height": 54
        }
      },
      "source": [
        "print(train_sequences[10])"
      ],
      "execution_count": 0,
      "outputs": [
        {
          "output_type": "stream",
          "text": [
            "[2248, 1, 1, 24, 631, 548, 1, 1, 1, 1618, 1, 1, 2248, 24, 520, 1, 1, 148, 248, 1, 148, 248, 785, 784, 602, 2139, 1, 1570, 1, 1596, 1, 1, 1, 1, 1, 4479, 1, 1, 108, 4258, 1, 2, 2669, 1396, 321, 4480, 1, 48, 337, 1, 321, 2009, 3717, 37, 24, 3560, 1, 1, 1, 1, 503, 1, 1, 1, 812, 576, 2316, 318, 4734, 1, 345, 24, 1, 728, 2249, 1, 4067, 121, 10, 1, 3429, 620, 3310, 1, 24, 1, 373, 784, 602, 1, 80, 14, 577, 1, 1, 1, 555, 1570, 937, 1, 1, 823, 1734, 130, 1, 1, 1, 2764, 24, 1, 99, 248, 1, 1483, 4735, 503, 454, 1, 1338, 4481, 712, 1279, 1, 1732, 10, 38, 631, 292, 1, 69, 443, 520, 280, 1484, 24, 437, 1, 1, 1544, 1, 775, 1, 2965, 1, 1464, 5, 1, 2248, 520, 24, 2762, 1, 1, 1, 1, 1, 813, 41, 1693, 27, 895, 1, 814, 24, 348, 24, 14, 280, 1484, 1244, 20, 72, 979, 1002, 4068, 249]\n"
          ],
          "name": "stdout"
        }
      ]
    },
    {
      "cell_type": "markdown",
      "metadata": {
        "id": "bc--4nzJFfV_",
        "colab_type": "text"
      },
      "source": [
        "Potong sekuens ids (jika melebihi `max_length`) atau tambahkan padding (jika kurang dari `max_length`)."
      ]
    },
    {
      "cell_type": "code",
      "metadata": {
        "id": "uGAiKQ7Te3rr",
        "colab_type": "code",
        "colab": {}
      },
      "source": [
        "train_padded = pad_sequences(train_sequences, maxlen=max_length, padding=padding_type, truncating=trunc_type)"
      ],
      "execution_count": 0,
      "outputs": []
    },
    {
      "cell_type": "code",
      "metadata": {
        "id": "Y4jpJaQBfA9U",
        "colab_type": "code",
        "outputId": "2efd4030-5a3d-45b3-a0b9-d9c1661565b0",
        "colab": {
          "base_uri": "https://localhost:8080/",
          "height": 118
        }
      },
      "source": [
        "print('before pad_sequences: ',len(train_sequences[0]))\n",
        "print('after pad_sequences: ',len(train_padded[0]))\n",
        "\n",
        "print('before pad_sequences: ',len(train_sequences[1]))\n",
        "print('after pad_sequences: ',len(train_padded[1]))\n",
        "\n",
        "print('before pad_sequences: ',len(train_sequences[10]))\n",
        "print('after pad_sequences: ',len(train_padded[10]))"
      ],
      "execution_count": 0,
      "outputs": [
        {
          "output_type": "stream",
          "text": [
            "before pad_sequences:  404\n",
            "after pad_sequences:  200\n",
            "before pad_sequences:  183\n",
            "after pad_sequences:  200\n",
            "before pad_sequences:  176\n",
            "after pad_sequences:  200\n"
          ],
          "name": "stdout"
        }
      ]
    },
    {
      "cell_type": "markdown",
      "metadata": {
        "id": "J83nd_TvQZwq",
        "colab_type": "text"
      },
      "source": [
        "Perbandingan data sebelum dan setelah padding."
      ]
    },
    {
      "cell_type": "code",
      "metadata": {
        "id": "vGu-eYZFfIA3",
        "colab_type": "code",
        "outputId": "5b25067b-66a8-413f-f558-60af4faa621d",
        "colab": {
          "base_uri": "https://localhost:8080/",
          "height": 235
        }
      },
      "source": [
        "print(np.asarray(train_sequences[10]))"
      ],
      "execution_count": 0,
      "outputs": [
        {
          "output_type": "stream",
          "text": [
            "[2248    1    1   24  631  548    1    1    1 1618    1    1 2248   24\n",
            "  520    1    1  148  248    1  148  248  785  784  602 2139    1 1570\n",
            "    1 1596    1    1    1    1    1 4479    1    1  108 4258    1    2\n",
            " 2669 1396  321 4480    1   48  337    1  321 2009 3717   37   24 3560\n",
            "    1    1    1    1  503    1    1    1  812  576 2316  318 4734    1\n",
            "  345   24    1  728 2249    1 4067  121   10    1 3429  620 3310    1\n",
            "   24    1  373  784  602    1   80   14  577    1    1    1  555 1570\n",
            "  937    1    1  823 1734  130    1    1    1 2764   24    1   99  248\n",
            "    1 1483 4735  503  454    1 1338 4481  712 1279    1 1732   10   38\n",
            "  631  292    1   69  443  520  280 1484   24  437    1    1 1544    1\n",
            "  775    1 2965    1 1464    5    1 2248  520   24 2762    1    1    1\n",
            "    1    1  813   41 1693   27  895    1  814   24  348   24   14  280\n",
            " 1484 1244   20   72  979 1002 4068  249]\n"
          ],
          "name": "stdout"
        }
      ]
    },
    {
      "cell_type": "markdown",
      "metadata": {
        "id": "cBctiuR9GJqO",
        "colab_type": "text"
      },
      "source": [
        "Token padding adalah `0`."
      ]
    },
    {
      "cell_type": "code",
      "metadata": {
        "id": "6LamBFOkfNFZ",
        "colab_type": "code",
        "outputId": "e6d5b868-8787-4717-e9df-0c7867d7296c",
        "colab": {
          "base_uri": "https://localhost:8080/",
          "height": 269
        }
      },
      "source": [
        "print(train_padded[10])"
      ],
      "execution_count": 0,
      "outputs": [
        {
          "output_type": "stream",
          "text": [
            "[2248    1    1   24  631  548    1    1    1 1618    1    1 2248   24\n",
            "  520    1    1  148  248    1  148  248  785  784  602 2139    1 1570\n",
            "    1 1596    1    1    1    1    1 4479    1    1  108 4258    1    2\n",
            " 2669 1396  321 4480    1   48  337    1  321 2009 3717   37   24 3560\n",
            "    1    1    1    1  503    1    1    1  812  576 2316  318 4734    1\n",
            "  345   24    1  728 2249    1 4067  121   10    1 3429  620 3310    1\n",
            "   24    1  373  784  602    1   80   14  577    1    1    1  555 1570\n",
            "  937    1    1  823 1734  130    1    1    1 2764   24    1   99  248\n",
            "    1 1483 4735  503  454    1 1338 4481  712 1279    1 1732   10   38\n",
            "  631  292    1   69  443  520  280 1484   24  437    1    1 1544    1\n",
            "  775    1 2965    1 1464    5    1 2248  520   24 2762    1    1    1\n",
            "    1    1  813   41 1693   27  895    1  814   24  348   24   14  280\n",
            " 1484 1244   20   72  979 1002 4068  249    0    0    0    0    0    0\n",
            "    0    0    0    0    0    0    0    0    0    0    0    0    0    0\n",
            "    0    0    0    0]\n"
          ],
          "name": "stdout"
        }
      ]
    },
    {
      "cell_type": "markdown",
      "metadata": {
        "id": "YIJA5YfdGOSX",
        "colab_type": "text"
      },
      "source": [
        "Lakukan hal yang sama untuk data validasi."
      ]
    },
    {
      "cell_type": "code",
      "metadata": {
        "id": "AymBefAMfPNb",
        "colab_type": "code",
        "outputId": "1861c249-1972-4385-fa68-ecd762fbd0cb",
        "colab": {
          "base_uri": "https://localhost:8080/",
          "height": 50
        }
      },
      "source": [
        "validation_sequences = tokenizer.texts_to_sequences(validation_set['text'])\n",
        "validation_padded = pad_sequences(validation_sequences, maxlen=max_length, padding=padding_type, truncating=trunc_type)\n",
        "\n",
        "print(len(validation_sequences))\n",
        "print(validation_padded.shape)"
      ],
      "execution_count": 0,
      "outputs": [
        {
          "output_type": "stream",
          "text": [
            "445\n",
            "(445, 200)\n"
          ],
          "name": "stdout"
        }
      ]
    },
    {
      "cell_type": "markdown",
      "metadata": {
        "id": "Mf4Wn2FlGWD8",
        "colab_type": "text"
      },
      "source": [
        "Ubah label ke dalam numerik."
      ]
    },
    {
      "cell_type": "code",
      "metadata": {
        "id": "IOTW7Pfjf2Ff",
        "colab_type": "code",
        "colab": {}
      },
      "source": [
        "label_tokenizer = Tokenizer()\n",
        "label_tokenizer.fit_on_texts(df_clean['category'])\n",
        "\n",
        "training_label_seq = np.array(label_tokenizer.texts_to_sequences(train_set['category']))\n",
        "validation_label_seq = np.array(label_tokenizer.texts_to_sequences(validation_set['category']))"
      ],
      "execution_count": 0,
      "outputs": []
    },
    {
      "cell_type": "code",
      "metadata": {
        "id": "dqchcdwEgQHd",
        "colab_type": "code",
        "outputId": "c51d9974-b7f0-477d-ec4a-10a15bb9bf35",
        "colab": {
          "base_uri": "https://localhost:8080/",
          "height": 151
        }
      },
      "source": [
        "print(training_label_seq[0])\n",
        "print(training_label_seq[1])\n",
        "print(training_label_seq[2])\n",
        "print(training_label_seq.shape)\n",
        "\n",
        "print(validation_label_seq[0])\n",
        "print(validation_label_seq[1])\n",
        "print(validation_label_seq[2])\n",
        "print(validation_label_seq.shape)"
      ],
      "execution_count": 0,
      "outputs": [
        {
          "output_type": "stream",
          "text": [
            "[4]\n",
            "[2]\n",
            "[1]\n",
            "(1780, 1)\n",
            "[5]\n",
            "[4]\n",
            "[3]\n",
            "(445, 1)\n"
          ],
          "name": "stdout"
        }
      ]
    },
    {
      "cell_type": "markdown",
      "metadata": {
        "id": "IpLNjsq6Qhf1",
        "colab_type": "text"
      },
      "source": [
        "Sebelum kita mulai klasifikasi, mari kita lihat perubahan yang terjadi dari pada training data dalam format teks. Kata yang tidak ada dalam vocabulary (OOV) sudah digantikan dengan token khusus, dan ditambahkan `pad_token` yang didecode sebagai `?`."
      ]
    },
    {
      "cell_type": "code",
      "metadata": {
        "id": "b4RUFl9kihGp",
        "colab_type": "code",
        "outputId": "036c9fde-d7d5-4919-81b6-d64e1b089cf4",
        "colab": {
          "base_uri": "https://localhost:8080/",
          "height": 87
        }
      },
      "source": [
        "reverse_word_index = dict([(value, key) for (key, value) in word_index.items()])\n",
        "\n",
        "def decode_article(text):\n",
        "    return ' '.join([reverse_word_index.get(i, '?') for i in text])\n",
        "print(decode_article(train_padded[10]))\n",
        "print('---')\n",
        "print(train_set['text'][10])"
      ],
      "execution_count": 0,
      "outputs": [
        {
          "output_type": "stream",
          "text": [
            "berlin <OOV> <OOV> film german movie <OOV> <OOV> <OOV> drawn <OOV> <OOV> berlin film festival <OOV> <OOV> final days <OOV> final days member white rose movement <OOV> arrested <OOV> brother <OOV> <OOV> <OOV> <OOV> <OOV> tyranny <OOV> <OOV> director marc <OOV> said feeling responsibility keep legacy <OOV> going must <OOV> keep ideas alive added film drew <OOV> <OOV> <OOV> <OOV> trial <OOV> <OOV> <OOV> east germany secret police discovery <OOV> behind film <OOV> worked closely <OOV> relatives including one <OOV> sisters ensure historical <OOV> film <OOV> members white rose <OOV> group first started <OOV> <OOV> <OOV> summer arrested dropped <OOV> <OOV> university calling day <OOV> <OOV> <OOV> regime film <OOV> six days <OOV> arrest intense trial saw <OOV> initially deny charges ended <OOV> appearance one three german films <OOV> top prize festival south african film version <OOV> <OOV> opera <OOV> shot <OOV> town <OOV> language also <OOV> berlin festival film entitled <OOV> <OOV> <OOV> <OOV> <OOV> story set performed music theatre <OOV> debut film performance film first south african feature years second nominated golden bear award ? ? ? ? ? ? ? ? ? ? ? ? ? ? ? ? ? ? ? ? ? ? ? ?\n",
            "---\n",
            "berlin cheers antinazi film german movie antinazi resistance heroine drawn loud applause berlin film festival sophie scholl final days portrays final days member white rose movement scholl arrested beheaded brother hans distributing leaflets condemning abhorrent tyranny adolf hitler director marc rothemund said feeling responsibility keep legacy scholls going must somehow keep ideas alive added film drew transcripts gestapo interrogations scholl trial preserved archive communist east germany secret police discovery inspiration behind film rothemund worked closely surviving relatives including one scholl sisters ensure historical accuracy film scholl members white rose resistance group first started distributing antinazi leaflets summer arrested dropped leaflets munich university calling day reckoning adolf hitler regime film focuses six days scholl arrest intense trial saw scholl initially deny charges ended defiant appearance one three german films vying top prize festival south african film version bizet tragic opera carmen shot cape town xhosa language also premiered berlin festival film entitled ucarmen ekhayelitsha carmen khayelitsha township story set performed music theatre troupe debut film performance film first south african feature years second nominated golden bear award\n"
          ],
          "name": "stdout"
        }
      ]
    },
    {
      "cell_type": "markdown",
      "metadata": {
        "id": "Rpw2aH1dRUwq",
        "colab_type": "text"
      },
      "source": [
        "### Model"
      ]
    },
    {
      "cell_type": "markdown",
      "metadata": {
        "id": "py2iD_i0SkLu",
        "colab_type": "text"
      },
      "source": [
        "Pertama kita perlu `Embedding` layer untuk mengubah token id menjadi vektor. Saat ini, weights dari embedding layer akan ditrain bersamaan dengan proses training semua layer.  \n",
        "Lalu sebuah `LSTM` layer dengan **jumlah `units`** dalam contoh ini yaitu 64.  \n",
        "Terakhir kita tambahkan 2 buah Dense layer."
      ]
    },
    {
      "cell_type": "code",
      "metadata": {
        "id": "_gdfiuZjiohw",
        "colab_type": "code",
        "outputId": "a1f9bb44-acf1-44aa-a6bf-7a421fa35eec",
        "colab": {
          "base_uri": "https://localhost:8080/",
          "height": 406
        }
      },
      "source": [
        "model = tf.keras.Sequential([\n",
        "    tf.keras.layers.Embedding(vocab_size, embedding_dim),\n",
        "    tf.keras.layers.LSTM(embedding_dim),\n",
        "    tf.keras.layers.Dense(embedding_dim, activation='relu'),\n",
        "    tf.keras.layers.Dense(6, activation='softmax')\n",
        "])\n",
        "model.summary()"
      ],
      "execution_count": 0,
      "outputs": [
        {
          "output_type": "stream",
          "text": [
            "WARNING:tensorflow:From /usr/local/lib/python3.6/dist-packages/tensorflow_core/python/keras/initializers.py:119: calling RandomUniform.__init__ (from tensorflow.python.ops.init_ops) with dtype is deprecated and will be removed in a future version.\n",
            "Instructions for updating:\n",
            "Call initializer instance with the dtype argument instead of passing it to the constructor\n",
            "WARNING:tensorflow:From /usr/local/lib/python3.6/dist-packages/tensorflow_core/python/ops/resource_variable_ops.py:1630: calling BaseResourceVariable.__init__ (from tensorflow.python.ops.resource_variable_ops) with constraint is deprecated and will be removed in a future version.\n",
            "Instructions for updating:\n",
            "If using Keras pass *_constraint arguments to layers.\n",
            "Model: \"sequential\"\n",
            "_________________________________________________________________\n",
            "Layer (type)                 Output Shape              Param #   \n",
            "=================================================================\n",
            "embedding (Embedding)        (None, None, 64)          320000    \n",
            "_________________________________________________________________\n",
            "lstm (LSTM)                  (None, 64)                33024     \n",
            "_________________________________________________________________\n",
            "dense (Dense)                (None, 64)                4160      \n",
            "_________________________________________________________________\n",
            "dense_1 (Dense)              (None, 6)                 390       \n",
            "=================================================================\n",
            "Total params: 357,574\n",
            "Trainable params: 357,574\n",
            "Non-trainable params: 0\n",
            "_________________________________________________________________\n"
          ],
          "name": "stdout"
        }
      ]
    },
    {
      "cell_type": "code",
      "metadata": {
        "id": "r_5VAhh3i9m4",
        "colab_type": "code",
        "colab": {}
      },
      "source": [
        "model.compile(loss='sparse_categorical_crossentropy', optimizer='adam', metrics=['accuracy'])"
      ],
      "execution_count": 0,
      "outputs": []
    },
    {
      "cell_type": "markdown",
      "metadata": {
        "id": "GnEXdjmeTO54",
        "colab_type": "text"
      },
      "source": [
        "Train model yang telah dibuat."
      ]
    },
    {
      "cell_type": "code",
      "metadata": {
        "id": "ScxHIobGjB3r",
        "colab_type": "code",
        "outputId": "6fa5475b-adc8-4eae-b35b-e7c3d76c7f7d",
        "colab": {
          "base_uri": "https://localhost:8080/",
          "height": 440
        }
      },
      "source": [
        "num_epochs = 10\n",
        "history = model.fit(train_padded, training_label_seq, epochs=num_epochs, validation_data=(validation_padded, validation_label_seq), verbose=2)"
      ],
      "execution_count": 0,
      "outputs": [
        {
          "output_type": "stream",
          "text": [
            "WARNING:tensorflow:From /usr/local/lib/python3.6/dist-packages/tensorflow_core/python/ops/math_grad.py:1424: where (from tensorflow.python.ops.array_ops) is deprecated and will be removed in a future version.\n",
            "Instructions for updating:\n",
            "Use tf.where in 2.0, which has the same broadcast rule as np.where\n",
            "Train on 1780 samples, validate on 445 samples\n",
            "Epoch 1/10\n",
            "1780/1780 - 16s - loss: 1.6743 - acc: 0.2309 - val_loss: 1.5764 - val_acc: 0.3461\n",
            "Epoch 2/10\n",
            "1780/1780 - 15s - loss: 1.4306 - acc: 0.3309 - val_loss: 1.4062 - val_acc: 0.3258\n",
            "Epoch 3/10\n",
            "1780/1780 - 15s - loss: 1.3622 - acc: 0.3348 - val_loss: 1.3773 - val_acc: 0.3281\n",
            "Epoch 4/10\n",
            "1780/1780 - 15s - loss: 1.3161 - acc: 0.3320 - val_loss: 1.2902 - val_acc: 0.3416\n",
            "Epoch 5/10\n",
            "1780/1780 - 15s - loss: 1.3150 - acc: 0.3416 - val_loss: 1.5291 - val_acc: 0.2157\n",
            "Epoch 6/10\n",
            "1780/1780 - 15s - loss: 1.2883 - acc: 0.4000 - val_loss: 1.1470 - val_acc: 0.4674\n",
            "Epoch 7/10\n",
            "1780/1780 - 15s - loss: 1.1622 - acc: 0.4551 - val_loss: 1.3845 - val_acc: 0.3528\n",
            "Epoch 8/10\n",
            "1780/1780 - 15s - loss: 1.2948 - acc: 0.4449 - val_loss: 1.2780 - val_acc: 0.4337\n",
            "Epoch 9/10\n",
            "1780/1780 - 15s - loss: 1.2035 - acc: 0.4764 - val_loss: 1.2619 - val_acc: 0.4000\n",
            "Epoch 10/10\n",
            "1780/1780 - 15s - loss: 1.1651 - acc: 0.4978 - val_loss: 1.2404 - val_acc: 0.4067\n"
          ],
          "name": "stdout"
        }
      ]
    },
    {
      "cell_type": "markdown",
      "metadata": {
        "id": "K1bXo93sTVEQ",
        "colab_type": "text"
      },
      "source": [
        "Plot accuracy dan error dari traning dan validation. Terlihat dalam 10 epochs, akurasi validasi di sekitar 50%."
      ]
    },
    {
      "cell_type": "code",
      "metadata": {
        "id": "9eiob55_jF5Z",
        "colab_type": "code",
        "outputId": "331a88c2-d10d-42fc-d9f0-082a18dee21e",
        "colab": {
          "base_uri": "https://localhost:8080/",
          "height": 545
        }
      },
      "source": [
        "\n",
        "def plot_graphs(history, string):\n",
        "  plt.plot(history.history[string])\n",
        "  plt.plot(history.history['val_'+string])\n",
        "  plt.xlabel(\"Epochs\")\n",
        "  plt.ylabel(string)\n",
        "  plt.legend([string, 'val_'+string])\n",
        "  plt.show()\n",
        "  \n",
        "plot_graphs(history, \"acc\")\n",
        "plot_graphs(history, \"loss\")"
      ],
      "execution_count": 0,
      "outputs": [
        {
          "output_type": "display_data",
          "data": {
            "image/png": "[encoded data removed]",
            "text/plain": [
              "<Figure size 432x288 with 1 Axes>"
            ]
          },
          "metadata": {
            "tags": []
          }
        },
        {
          "output_type": "display_data",
          "data": {
            "image/png": "[encoded data removed]",
            "text/plain": [
              "<Figure size 432x288 with 1 Axes>"
            ]
          },
          "metadata": {
            "tags": []
          }
        }
      ]
    },
    {
      "cell_type": "markdown",
      "metadata": {
        "id": "3hdUQZ92tc4D",
        "colab_type": "text"
      },
      "source": [
        "## BiLSTM"
      ]
    },
    {
      "cell_type": "markdown",
      "metadata": {
        "id": "NavxSQ69TtM-",
        "colab_type": "text"
      },
      "source": [
        "Sekarang kita akan coba menggunakan Bidirectional LSTM. `tf.keras` sudah menyiapkan layer khusus yang langsung bisa digunakan, yaitu `tf.keras.layers.Bidirectional`. Terlihat bahwa jumlah parameter pada layer bidirectional tepat 2 kali jumlah parameter di LSTM biasa."
      ]
    },
    {
      "cell_type": "code",
      "metadata": {
        "id": "3YIyVTI5l1TZ",
        "colab_type": "code",
        "outputId": "c857bbec-c46c-40cb-c2fa-99e2a793484d",
        "colab": {
          "base_uri": "https://localhost:8080/",
          "height": 457
        }
      },
      "source": [
        "model_bi = tf.keras.Sequential([\n",
        "    tf.keras.layers.Embedding(vocab_size, embedding_dim),\n",
        "    tf.keras.layers.Bidirectional(tf.keras.layers.LSTM(embedding_dim)),\n",
        "    tf.keras.layers.Dense(embedding_dim, activation='relu'),\n",
        "    tf.keras.layers.Dense(6, activation='softmax')\n",
        "])\n",
        "model_bi.summary()"
      ],
      "execution_count": 0,
      "outputs": [
        {
          "output_type": "stream",
          "text": [
            "WARNING:tensorflow:From /usr/local/lib/python3.6/dist-packages/tensorflow_core/python/ops/init_ops.py:97: calling GlorotUniform.__init__ (from tensorflow.python.ops.init_ops) with dtype is deprecated and will be removed in a future version.\n",
            "Instructions for updating:\n",
            "Call initializer instance with the dtype argument instead of passing it to the constructor\n",
            "WARNING:tensorflow:From /usr/local/lib/python3.6/dist-packages/tensorflow_core/python/ops/init_ops.py:97: calling Orthogonal.__init__ (from tensorflow.python.ops.init_ops) with dtype is deprecated and will be removed in a future version.\n",
            "Instructions for updating:\n",
            "Call initializer instance with the dtype argument instead of passing it to the constructor\n",
            "WARNING:tensorflow:From /usr/local/lib/python3.6/dist-packages/tensorflow_core/python/ops/init_ops.py:97: calling Zeros.__init__ (from tensorflow.python.ops.init_ops) with dtype is deprecated and will be removed in a future version.\n",
            "Instructions for updating:\n",
            "Call initializer instance with the dtype argument instead of passing it to the constructor\n",
            "Model: \"sequential_1\"\n",
            "_________________________________________________________________\n",
            "Layer (type)                 Output Shape              Param #   \n",
            "=================================================================\n",
            "embedding_1 (Embedding)      (None, None, 64)          320000    \n",
            "_________________________________________________________________\n",
            "bidirectional (Bidirectional (None, 128)               66048     \n",
            "_________________________________________________________________\n",
            "dense_2 (Dense)              (None, 64)                8256      \n",
            "_________________________________________________________________\n",
            "dense_3 (Dense)              (None, 6)                 390       \n",
            "=================================================================\n",
            "Total params: 394,694\n",
            "Trainable params: 394,694\n",
            "Non-trainable params: 0\n",
            "_________________________________________________________________\n"
          ],
          "name": "stdout"
        }
      ]
    },
    {
      "cell_type": "code",
      "metadata": {
        "id": "kBMocRcmp9HC",
        "colab_type": "code",
        "outputId": "9a1e7183-7f53-45c2-c562-f2bbe236738a",
        "colab": {
          "base_uri": "https://localhost:8080/",
          "height": 370
        }
      },
      "source": [
        "model_bi.compile(loss='sparse_categorical_crossentropy', optimizer='adam', metrics=['accuracy'])\n",
        "history = model_bi.fit(train_padded, training_label_seq, epochs=num_epochs, validation_data=(validation_padded, validation_label_seq), verbose=2)"
      ],
      "execution_count": 0,
      "outputs": [
        {
          "output_type": "stream",
          "text": [
            "Train on 1780 samples, validate on 445 samples\n",
            "Epoch 1/10\n",
            "1780/1780 - 30s - loss: 1.6063 - acc: 0.2888 - val_loss: 1.3663 - val_acc: 0.4337\n",
            "Epoch 2/10\n",
            "1780/1780 - 29s - loss: 1.0884 - acc: 0.5483 - val_loss: 0.8304 - val_acc: 0.8180\n",
            "Epoch 3/10\n",
            "1780/1780 - 29s - loss: 0.4889 - acc: 0.8326 - val_loss: 0.3913 - val_acc: 0.8764\n",
            "Epoch 4/10\n",
            "1780/1780 - 29s - loss: 0.1729 - acc: 0.9404 - val_loss: 0.3231 - val_acc: 0.9034\n",
            "Epoch 5/10\n",
            "1780/1780 - 29s - loss: 0.0507 - acc: 0.9876 - val_loss: 0.3280 - val_acc: 0.8989\n",
            "Epoch 6/10\n",
            "1780/1780 - 29s - loss: 0.0284 - acc: 0.9944 - val_loss: 0.3546 - val_acc: 0.8944\n",
            "Epoch 7/10\n",
            "1780/1780 - 29s - loss: 0.0109 - acc: 0.9983 - val_loss: 0.3388 - val_acc: 0.9169\n",
            "Epoch 8/10\n",
            "1780/1780 - 29s - loss: 0.0454 - acc: 0.9860 - val_loss: 0.3355 - val_acc: 0.9124\n",
            "Epoch 9/10\n",
            "1780/1780 - 29s - loss: 0.0081 - acc: 0.9983 - val_loss: 0.2512 - val_acc: 0.9169\n",
            "Epoch 10/10\n",
            "1780/1780 - 29s - loss: 0.0017 - acc: 1.0000 - val_loss: 0.2585 - val_acc: 0.9258\n"
          ],
          "name": "stdout"
        }
      ]
    },
    {
      "cell_type": "code",
      "metadata": {
        "id": "5ZT12ZikqJmL",
        "colab_type": "code",
        "outputId": "9167428d-928b-4539-b8f2-e15372d0baac",
        "colab": {
          "base_uri": "https://localhost:8080/",
          "height": 541
        }
      },
      "source": [
        "plot_graphs(history, \"acc\")\n",
        "plot_graphs(history, \"loss\")"
      ],
      "execution_count": 0,
      "outputs": [
        {
          "output_type": "display_data",
          "data": {
            "image/png": "[encoded data removed]",
            "text/plain": [
              "<Figure size 432x288 with 1 Axes>"
            ]
          },
          "metadata": {
            "tags": []
          }
        },
        {
          "output_type": "display_data",
          "data": {
            "image/png": "[encoded data removed]",
            "text/plain": [
              "<Figure size 432x288 with 1 Axes>"
            ]
          },
          "metadata": {
            "tags": []
          }
        }
      ]
    },
    {
      "cell_type": "markdown",
      "metadata": {
        "id": "YDhJ8JcFvF4J",
        "colab_type": "text"
      },
      "source": [
        "## CNN"
      ]
    },
    {
      "cell_type": "markdown",
      "metadata": {
        "id": "I9-4yOVaUWK9",
        "colab_type": "text"
      },
      "source": [
        "Salah satu alasan menggunakan Bidirectional adalah perlunya kemampuan melihat input di depan (tidak hanya input sebelumnya). Maka Bidirectional bukan satu-satunya alternatif. CNN juga bisa menjadi alternatif karena CNN akan melihat beberapa input sebelum dan sesudah berdasarkan size filter yang diberikan.  \n",
        "  \n",
        "Di bawah ini, kita coba menggunakan jumlah filter sebanyak 128 dengan ukuran kernel 5."
      ]
    },
    {
      "cell_type": "code",
      "metadata": {
        "id": "cQR8NCrasf6f",
        "colab_type": "code",
        "outputId": "c103061f-c353-44f6-d00a-0779cf1b8ce4",
        "colab": {
          "base_uri": "https://localhost:8080/",
          "height": 319
        }
      },
      "source": [
        "model_cnn = tf.keras.Sequential([\n",
        "    tf.keras.layers.Embedding(vocab_size, embedding_dim,\n",
        "                             input_length=max_length),\n",
        "    # specify the number of convolutions that you want to learn, their size, and their activation function.\n",
        "    # words will be grouped into the size of the filter in this case 5\n",
        "    tf.keras.layers.Conv1D(128, 5, activation='relu'),\n",
        "    tf.keras.layers.GlobalAveragePooling1D(),\n",
        "    tf.keras.layers.Dense(64, activation='relu'),\n",
        "    tf.keras.layers.Dense(6, activation='softmax')\n",
        "])\n",
        "model_cnn.summary()"
      ],
      "execution_count": 0,
      "outputs": [
        {
          "output_type": "stream",
          "text": [
            "Model: \"sequential_2\"\n",
            "_________________________________________________________________\n",
            "Layer (type)                 Output Shape              Param #   \n",
            "=================================================================\n",
            "embedding_2 (Embedding)      (None, 200, 64)           320000    \n",
            "_________________________________________________________________\n",
            "conv1d (Conv1D)              (None, 196, 128)          41088     \n",
            "_________________________________________________________________\n",
            "global_average_pooling1d (Gl (None, 128)               0         \n",
            "_________________________________________________________________\n",
            "dense_4 (Dense)              (None, 64)                8256      \n",
            "_________________________________________________________________\n",
            "dense_5 (Dense)              (None, 6)                 390       \n",
            "=================================================================\n",
            "Total params: 369,734\n",
            "Trainable params: 369,734\n",
            "Non-trainable params: 0\n",
            "_________________________________________________________________\n"
          ],
          "name": "stdout"
        }
      ]
    },
    {
      "cell_type": "code",
      "metadata": {
        "id": "2RQtIMMFvL2v",
        "colab_type": "code",
        "outputId": "42e5f30b-06b3-465d-b9f9-2764d75f9ec9",
        "colab": {
          "base_uri": "https://localhost:8080/",
          "height": 370
        }
      },
      "source": [
        "model_cnn.compile(loss='sparse_categorical_crossentropy', optimizer='adam', metrics=['accuracy'])\n",
        "history = model_cnn.fit(train_padded, training_label_seq, epochs=num_epochs, validation_data=(validation_padded, validation_label_seq), verbose=2)"
      ],
      "execution_count": 0,
      "outputs": [
        {
          "output_type": "stream",
          "text": [
            "Train on 1780 samples, validate on 445 samples\n",
            "Epoch 1/10\n",
            "1780/1780 - 0s - loss: 6.3444e-06 - acc: 1.0000 - val_loss: 0.1455 - val_acc: 0.9640\n",
            "Epoch 2/10\n",
            "1780/1780 - 0s - loss: 1.8314e-06 - acc: 1.0000 - val_loss: 0.1510 - val_acc: 0.9640\n",
            "Epoch 3/10\n",
            "1780/1780 - 0s - loss: 7.9334e-07 - acc: 1.0000 - val_loss: 0.1587 - val_acc: 0.9640\n",
            "Epoch 4/10\n",
            "1780/1780 - 0s - loss: 5.1956e-07 - acc: 1.0000 - val_loss: 0.1561 - val_acc: 0.9640\n",
            "Epoch 5/10\n",
            "1780/1780 - 0s - loss: 3.7002e-07 - acc: 1.0000 - val_loss: 0.1614 - val_acc: 0.9640\n",
            "Epoch 6/10\n",
            "1780/1780 - 0s - loss: 2.8369e-07 - acc: 1.0000 - val_loss: 0.1653 - val_acc: 0.9640\n",
            "Epoch 7/10\n",
            "1780/1780 - 0s - loss: 2.2328e-07 - acc: 1.0000 - val_loss: 0.1630 - val_acc: 0.9640\n",
            "Epoch 8/10\n",
            "1780/1780 - 0s - loss: 1.7868e-07 - acc: 1.0000 - val_loss: 0.1648 - val_acc: 0.9640\n",
            "Epoch 9/10\n",
            "1780/1780 - 0s - loss: 1.4908e-07 - acc: 1.0000 - val_loss: 0.1638 - val_acc: 0.9640\n",
            "Epoch 10/10\n",
            "1780/1780 - 0s - loss: 1.2343e-07 - acc: 1.0000 - val_loss: 0.1675 - val_acc: 0.9640\n"
          ],
          "name": "stdout"
        }
      ]
    },
    {
      "cell_type": "markdown",
      "metadata": {
        "id": "okxgga5WVVhz",
        "colab_type": "text"
      },
      "source": [
        "Dari plot, kita bisa lihat bahwa hasilnya hampir sama dengan model BiLSTM bahkan terlihat sedikit lebih baik."
      ]
    },
    {
      "cell_type": "code",
      "metadata": {
        "id": "lrLBtfH-vacD",
        "colab_type": "code",
        "outputId": "62889994-1958-4748-87c5-605903243413",
        "colab": {
          "base_uri": "https://localhost:8080/",
          "height": 543
        }
      },
      "source": [
        "plot_graphs(history, \"acc\")\n",
        "plot_graphs(history, \"loss\")"
      ],
      "execution_count": 0,
      "outputs": [
        {
          "output_type": "display_data",
          "data": {
            "image/png": "[encoded data removed]",
            "text/plain": [
              "<Figure size 432x288 with 1 Axes>"
            ]
          },
          "metadata": {
            "tags": []
          }
        },
        {
          "output_type": "display_data",
          "data": {
            "image/png": "[encoded data removed]",
            "text/plain": [
              "<Figure size 432x288 with 1 Axes>"
            ]
          },
          "metadata": {
            "tags": []
          }
        }
      ]
    },
    {
      "cell_type": "markdown",
      "metadata": {
        "id": "3pfNJKstwvjR",
        "colab_type": "text"
      },
      "source": [
        "## Glove+CNN+LSTM"
      ]
    },
    {
      "cell_type": "markdown",
      "metadata": {
        "id": "OloQ7-frVrAB",
        "colab_type": "text"
      },
      "source": [
        "Kali ini kita coba untuk menggabungkan beberapa komponen, yaitu menggunakan `pretrained embedding matrix`, bisa menggunakan word2vec, namun di sini kita coba menggunakan Glove. Info tentang Glove: https://nlp.stanford.edu/projects/glove/. Ada beberapa pilihan Glove, kita coba menggunakan 100 dimensi.\n",
        "\n",
        "Lalu kita tambahkan CNN dan LSTM setelahnya."
      ]
    },
    {
      "cell_type": "code",
      "metadata": {
        "id": "KcSHcYBOzOHm",
        "colab_type": "code",
        "colab": {}
      },
      "source": [
        "word_index = tokenizer.word_index\n",
        "vocab_size=len(word_index)\n",
        "embedding_dim = 100"
      ],
      "execution_count": 0,
      "outputs": []
    },
    {
      "cell_type": "markdown",
      "metadata": {
        "id": "e4HRAgALWQNt",
        "colab_type": "text"
      },
      "source": [
        "Bentuk `embeddings_matrix` yang hanya berisi vektor kata yang ada dalam kamus dataset yang kita gunakan saat ini (BBC train)."
      ]
    },
    {
      "cell_type": "code",
      "metadata": {
        "id": "vjd5K5yd0ADl",
        "colab_type": "code",
        "outputId": "1ee47121-fc89-44a7-e6ea-176af0800051",
        "colab": {
          "base_uri": "https://localhost:8080/",
          "height": 229
        }
      },
      "source": [
        "embeddings_index = {};\n",
        "with open('glove.6B.100d.txt') as f:\n",
        "    for line in f:\n",
        "        values = line.split();\n",
        "        word = values[0];\n",
        "        coefs = np.asarray(values[1:], dtype='float32')\n",
        "        embeddings_index[word] = coefs;\n",
        "\n",
        "\n",
        "\n",
        "embeddings_matrix = np.zeros((vocab_size+1, embedding_dim))\n",
        "for word, i in word_index.items():\n",
        "    embedding_vector = embeddings_index.get(word)\n",
        "    if embedding_vector is not None:\n",
        "        embeddings_matrix[i] = embedding_vector"
      ],
      "execution_count": 0,
      "outputs": [
        {
          "output_type": "error",
          "ename": "FileNotFoundError",
          "evalue": "ignored",
          "traceback": [
            "\u001b[0;31m---------------------------------------------------------------------------\u001b[0m",
            "\u001b[0;31mFileNotFoundError\u001b[0m                         Traceback (most recent call last)",
            "\u001b[0;32m<ipython-input-59-85df742b3c00>\u001b[0m in \u001b[0;36m<module>\u001b[0;34m()\u001b[0m\n\u001b[1;32m      1\u001b[0m \u001b[0membeddings_index\u001b[0m \u001b[0;34m=\u001b[0m \u001b[0;34m{\u001b[0m\u001b[0;34m}\u001b[0m\u001b[0;34m;\u001b[0m\u001b[0;34m\u001b[0m\u001b[0;34m\u001b[0m\u001b[0m\n\u001b[0;32m----> 2\u001b[0;31m \u001b[0;32mwith\u001b[0m \u001b[0mopen\u001b[0m\u001b[0;34m(\u001b[0m\u001b[0;34m'glove.6B.100d.txt'\u001b[0m\u001b[0;34m)\u001b[0m \u001b[0;32mas\u001b[0m \u001b[0mf\u001b[0m\u001b[0;34m:\u001b[0m\u001b[0;34m\u001b[0m\u001b[0;34m\u001b[0m\u001b[0m\n\u001b[0m\u001b[1;32m      3\u001b[0m     \u001b[0;32mfor\u001b[0m \u001b[0mline\u001b[0m \u001b[0;32min\u001b[0m \u001b[0mf\u001b[0m\u001b[0;34m:\u001b[0m\u001b[0;34m\u001b[0m\u001b[0;34m\u001b[0m\u001b[0m\n\u001b[1;32m      4\u001b[0m         \u001b[0mvalues\u001b[0m \u001b[0;34m=\u001b[0m \u001b[0mline\u001b[0m\u001b[0;34m.\u001b[0m\u001b[0msplit\u001b[0m\u001b[0;34m(\u001b[0m\u001b[0;34m)\u001b[0m\u001b[0;34m;\u001b[0m\u001b[0;34m\u001b[0m\u001b[0;34m\u001b[0m\u001b[0m\n\u001b[1;32m      5\u001b[0m         \u001b[0mword\u001b[0m \u001b[0;34m=\u001b[0m \u001b[0mvalues\u001b[0m\u001b[0;34m[\u001b[0m\u001b[0;36m0\u001b[0m\u001b[0;34m]\u001b[0m\u001b[0;34m;\u001b[0m\u001b[0;34m\u001b[0m\u001b[0;34m\u001b[0m\u001b[0m\n",
            "\u001b[0;31mFileNotFoundError\u001b[0m: [Errno 2] No such file or directory: 'glove.6B.100d.txt'"
          ]
        }
      ]
    },
    {
      "cell_type": "markdown",
      "metadata": {
        "id": "9Fx_e5YrWp8J",
        "colab_type": "text"
      },
      "source": [
        "Karena kita sudah menggunakan pretrained embeddings matrix, maka kita bisa set agar tidak mengupdate/learn weights nya. Set `trainable=False`.  \n",
        "Dari summary model terlihat bahwa meskipun jumlah total parameter jauh lebih banyak dari model-model sebelumnya, namun yang ditrain jauh lebih sedikit."
      ]
    },
    {
      "cell_type": "code",
      "metadata": {
        "id": "UoOjhEA50Xq4",
        "colab_type": "code",
        "outputId": "17e7d602-b88c-4574-de4e-e049fe6f58fe",
        "colab": {
          "base_uri": "https://localhost:8080/",
          "height": 229
        }
      },
      "source": [
        "model_combi = tf.keras.Sequential([\n",
        "    tf.keras.layers.Embedding(vocab_size+1, embedding_dim, input_length=max_length, weights=[embeddings_matrix], trainable=False),\n",
        "    tf.keras.layers.Dropout(0.2),\n",
        "    tf.keras.layers.Conv1D(64, 5, activation='relu'),\n",
        "    tf.keras.layers.MaxPooling1D(pool_size=4),\n",
        "    tf.keras.layers.LSTM(64),\n",
        "    tf.keras.layers.Dense(6, activation='softmax')\n",
        "])\n",
        "model_combi.compile(loss='sparse_categorical_crossentropy',optimizer='adam',metrics=['accuracy'])\n",
        "model_combi.summary()"
      ],
      "execution_count": 0,
      "outputs": [
        {
          "output_type": "error",
          "ename": "NameError",
          "evalue": "ignored",
          "traceback": [
            "\u001b[0;31m---------------------------------------------------------------------------\u001b[0m",
            "\u001b[0;31mNameError\u001b[0m                                 Traceback (most recent call last)",
            "\u001b[0;32m<ipython-input-60-18a69b4bcabb>\u001b[0m in \u001b[0;36m<module>\u001b[0;34m()\u001b[0m\n\u001b[1;32m      1\u001b[0m model_combi = tf.keras.Sequential([\n\u001b[0;32m----> 2\u001b[0;31m     \u001b[0mtf\u001b[0m\u001b[0;34m.\u001b[0m\u001b[0mkeras\u001b[0m\u001b[0;34m.\u001b[0m\u001b[0mlayers\u001b[0m\u001b[0;34m.\u001b[0m\u001b[0mEmbedding\u001b[0m\u001b[0;34m(\u001b[0m\u001b[0mvocab_size\u001b[0m\u001b[0;34m+\u001b[0m\u001b[0;36m1\u001b[0m\u001b[0;34m,\u001b[0m \u001b[0membedding_dim\u001b[0m\u001b[0;34m,\u001b[0m \u001b[0minput_length\u001b[0m\u001b[0;34m=\u001b[0m\u001b[0mmax_length\u001b[0m\u001b[0;34m,\u001b[0m \u001b[0mweights\u001b[0m\u001b[0;34m=\u001b[0m\u001b[0;34m[\u001b[0m\u001b[0membeddings_matrix\u001b[0m\u001b[0;34m]\u001b[0m\u001b[0;34m,\u001b[0m \u001b[0mtrainable\u001b[0m\u001b[0;34m=\u001b[0m\u001b[0;32mFalse\u001b[0m\u001b[0;34m)\u001b[0m\u001b[0;34m,\u001b[0m\u001b[0;34m\u001b[0m\u001b[0;34m\u001b[0m\u001b[0m\n\u001b[0m\u001b[1;32m      3\u001b[0m     \u001b[0mtf\u001b[0m\u001b[0;34m.\u001b[0m\u001b[0mkeras\u001b[0m\u001b[0;34m.\u001b[0m\u001b[0mlayers\u001b[0m\u001b[0;34m.\u001b[0m\u001b[0mDropout\u001b[0m\u001b[0;34m(\u001b[0m\u001b[0;36m0.2\u001b[0m\u001b[0;34m)\u001b[0m\u001b[0;34m,\u001b[0m\u001b[0;34m\u001b[0m\u001b[0;34m\u001b[0m\u001b[0m\n\u001b[1;32m      4\u001b[0m     \u001b[0mtf\u001b[0m\u001b[0;34m.\u001b[0m\u001b[0mkeras\u001b[0m\u001b[0;34m.\u001b[0m\u001b[0mlayers\u001b[0m\u001b[0;34m.\u001b[0m\u001b[0mConv1D\u001b[0m\u001b[0;34m(\u001b[0m\u001b[0;36m64\u001b[0m\u001b[0;34m,\u001b[0m \u001b[0;36m5\u001b[0m\u001b[0;34m,\u001b[0m \u001b[0mactivation\u001b[0m\u001b[0;34m=\u001b[0m\u001b[0;34m'relu'\u001b[0m\u001b[0;34m)\u001b[0m\u001b[0;34m,\u001b[0m\u001b[0;34m\u001b[0m\u001b[0;34m\u001b[0m\u001b[0m\n\u001b[1;32m      5\u001b[0m     \u001b[0mtf\u001b[0m\u001b[0;34m.\u001b[0m\u001b[0mkeras\u001b[0m\u001b[0;34m.\u001b[0m\u001b[0mlayers\u001b[0m\u001b[0;34m.\u001b[0m\u001b[0mMaxPooling1D\u001b[0m\u001b[0;34m(\u001b[0m\u001b[0mpool_size\u001b[0m\u001b[0;34m=\u001b[0m\u001b[0;36m4\u001b[0m\u001b[0;34m)\u001b[0m\u001b[0;34m,\u001b[0m\u001b[0;34m\u001b[0m\u001b[0;34m\u001b[0m\u001b[0m\n",
            "\u001b[0;31mNameError\u001b[0m: name 'embeddings_matrix' is not defined"
          ]
        }
      ]
    },
    {
      "cell_type": "code",
      "metadata": {
        "id": "rHIW1g-b03L0",
        "colab_type": "code",
        "outputId": "c1783590-259d-48c6-88ee-a62a92e9e844",
        "colab": {
          "base_uri": "https://localhost:8080/",
          "height": 178
        }
      },
      "source": [
        "model_combi.compile(loss='sparse_categorical_crossentropy', optimizer='adam', metrics=['accuracy'])\n",
        "history = model_combi.fit(train_padded, training_label_seq, epochs=num_epochs, validation_data=(validation_padded, validation_label_seq), verbose=2)"
      ],
      "execution_count": 0,
      "outputs": [
        {
          "output_type": "error",
          "ename": "NameError",
          "evalue": "ignored",
          "traceback": [
            "\u001b[0;31m---------------------------------------------------------------------------\u001b[0m",
            "\u001b[0;31mNameError\u001b[0m                                 Traceback (most recent call last)",
            "\u001b[0;32m<ipython-input-61-7a125de400a9>\u001b[0m in \u001b[0;36m<module>\u001b[0;34m()\u001b[0m\n\u001b[0;32m----> 1\u001b[0;31m \u001b[0mmodel_combi\u001b[0m\u001b[0;34m.\u001b[0m\u001b[0mcompile\u001b[0m\u001b[0;34m(\u001b[0m\u001b[0mloss\u001b[0m\u001b[0;34m=\u001b[0m\u001b[0;34m'sparse_categorical_crossentropy'\u001b[0m\u001b[0;34m,\u001b[0m \u001b[0moptimizer\u001b[0m\u001b[0;34m=\u001b[0m\u001b[0;34m'adam'\u001b[0m\u001b[0;34m,\u001b[0m \u001b[0mmetrics\u001b[0m\u001b[0;34m=\u001b[0m\u001b[0;34m[\u001b[0m\u001b[0;34m'accuracy'\u001b[0m\u001b[0;34m]\u001b[0m\u001b[0;34m)\u001b[0m\u001b[0;34m\u001b[0m\u001b[0;34m\u001b[0m\u001b[0m\n\u001b[0m\u001b[1;32m      2\u001b[0m \u001b[0mhistory\u001b[0m \u001b[0;34m=\u001b[0m \u001b[0mmodel_combi\u001b[0m\u001b[0;34m.\u001b[0m\u001b[0mfit\u001b[0m\u001b[0;34m(\u001b[0m\u001b[0mtrain_padded\u001b[0m\u001b[0;34m,\u001b[0m \u001b[0mtraining_label_seq\u001b[0m\u001b[0;34m,\u001b[0m \u001b[0mepochs\u001b[0m\u001b[0;34m=\u001b[0m\u001b[0mnum_epochs\u001b[0m\u001b[0;34m,\u001b[0m \u001b[0mvalidation_data\u001b[0m\u001b[0;34m=\u001b[0m\u001b[0;34m(\u001b[0m\u001b[0mvalidation_padded\u001b[0m\u001b[0;34m,\u001b[0m \u001b[0mvalidation_label_seq\u001b[0m\u001b[0;34m)\u001b[0m\u001b[0;34m,\u001b[0m \u001b[0mverbose\u001b[0m\u001b[0;34m=\u001b[0m\u001b[0;36m2\u001b[0m\u001b[0;34m)\u001b[0m\u001b[0;34m\u001b[0m\u001b[0;34m\u001b[0m\u001b[0m\n",
            "\u001b[0;31mNameError\u001b[0m: name 'model_combi' is not defined"
          ]
        }
      ]
    },
    {
      "cell_type": "markdown",
      "metadata": {
        "id": "OG7gbVvjXUD6",
        "colab_type": "text"
      },
      "source": [
        "Salah satu perbedaan yang terlihat adalah, hasil akurasi validasi pada epoch 1 sudah >80%, dibanding model sebelumnya yang berkisar 50%. Hal ini merupakan efek penggunaan pretrained word embeddings."
      ]
    },
    {
      "cell_type": "code",
      "metadata": {
        "id": "zKqtsRkX1H1b",
        "colab_type": "code",
        "outputId": "921b24b4-0b16-42b7-d7c0-a8942daa199e",
        "colab": {
          "base_uri": "https://localhost:8080/",
          "height": 544
        }
      },
      "source": [
        "plot_graphs(history, \"acc\")\n",
        "plot_graphs(history, \"loss\")"
      ],
      "execution_count": 0,
      "outputs": [
        {
          "output_type": "display_data",
          "data": {
            "image/png": "[encoded data removed]",
            "text/plain": [
              "<Figure size 432x288 with 1 Axes>"
            ]
          },
          "metadata": {
            "tags": []
          }
        },
        {
          "output_type": "display_data",
          "data": {
            "image/png": "[encoded data removed]",
            "text/plain": [
              "<Figure size 432x288 with 1 Axes>"
            ]
          },
          "metadata": {
            "tags": []
          }
        }
      ]
    },
    {
      "cell_type": "markdown",
      "metadata": {
        "id": "w0Asl9BBG0hE",
        "colab_type": "text"
      },
      "source": [
        "## Transformers"
      ]
    },
    {
      "cell_type": "markdown",
      "metadata": {
        "id": "eqnXgprxXxY6",
        "colab_type": "text"
      },
      "source": [
        "Terakhir, mari kita coba menggunakan pretrained contextual word embeddings. Transformers menyediakan banyak sekali pilihan."
      ]
    },
    {
      "cell_type": "markdown",
      "metadata": {
        "id": "tFNNk7BQHME4",
        "colab_type": "text"
      },
      "source": [
        "Install transformers dari huggingface https://huggingface.co/."
      ]
    },
    {
      "cell_type": "code",
      "metadata": {
        "id": "P-t4M8yK9z4M",
        "colab_type": "code",
        "outputId": "d1bda0d4-36c1-47eb-b053-fbf7bdad817f",
        "colab": {
          "base_uri": "https://localhost:8080/",
          "height": 638
        }
      },
      "source": [
        "!pip install transformers"
      ],
      "execution_count": 0,
      "outputs": [
        {
          "output_type": "stream",
          "text": [
            "Collecting transformers\n",
            "\u001b[?25l  Downloading https://files.pythonhosted.org/packages/13/33/ffb67897a6985a7b7d8e5e7878c3628678f553634bd3836404fef06ef19b/transformers-2.5.1-py3-none-any.whl (499kB)\n",
            "\u001b[K     |████████████████████████████████| 501kB 2.8MB/s \n",
            "\u001b[?25hCollecting sentencepiece\n",
            "\u001b[?25l  Downloading https://files.pythonhosted.org/packages/74/f4/2d5214cbf13d06e7cb2c20d84115ca25b53ea76fa1f0ade0e3c9749de214/sentencepiece-0.1.85-cp36-cp36m-manylinux1_x86_64.whl (1.0MB)\n",
            "\u001b[K     |████████████████████████████████| 1.0MB 9.2MB/s \n",
            "\u001b[?25hCollecting sacremoses\n",
            "\u001b[?25l  Downloading https://files.pythonhosted.org/packages/a6/b4/7a41d630547a4afd58143597d5a49e07bfd4c42914d8335b2a5657efc14b/sacremoses-0.0.38.tar.gz (860kB)\n",
            "\u001b[K     |████████████████████████████████| 870kB 18.4MB/s \n",
            "\u001b[?25hRequirement already satisfied: requests in /usr/local/lib/python3.6/dist-packages (from transformers) (2.21.0)\n",
            "Requirement already satisfied: tqdm>=4.27 in /usr/local/lib/python3.6/dist-packages (from transformers) (4.28.1)\n",
            "Collecting tokenizers==0.5.2\n",
            "\u001b[?25l  Downloading https://files.pythonhosted.org/packages/d1/3f/73c881ea4723e43c1e9acf317cf407fab3a278daab3a69c98dcac511c04f/tokenizers-0.5.2-cp36-cp36m-manylinux1_x86_64.whl (3.7MB)\n",
            "\u001b[K     |████████████████████████████████| 3.7MB 21.3MB/s \n",
            "\u001b[?25hRequirement already satisfied: boto3 in /usr/local/lib/python3.6/dist-packages (from transformers) (1.11.15)\n",
            "Requirement already satisfied: regex!=2019.12.17 in /usr/local/lib/python3.6/dist-packages (from transformers) (2019.12.20)\n",
            "Requirement already satisfied: filelock in /usr/local/lib/python3.6/dist-packages (from transformers) (3.0.12)\n",
            "Requirement already satisfied: numpy in /usr/local/lib/python3.6/dist-packages (from transformers) (1.17.5)\n",
            "Requirement already satisfied: six in /usr/local/lib/python3.6/dist-packages (from sacremoses->transformers) (1.12.0)\n",
            "Requirement already satisfied: click in /usr/local/lib/python3.6/dist-packages (from sacremoses->transformers) (7.0)\n",
            "Requirement already satisfied: joblib in /usr/local/lib/python3.6/dist-packages (from sacremoses->transformers) (0.14.1)\n",
            "Requirement already satisfied: idna<2.9,>=2.5 in /usr/local/lib/python3.6/dist-packages (from requests->transformers) (2.8)\n",
            "Requirement already satisfied: chardet<3.1.0,>=3.0.2 in /usr/local/lib/python3.6/dist-packages (from requests->transformers) (3.0.4)\n",
            "Requirement already satisfied: certifi>=2017.4.17 in /usr/local/lib/python3.6/dist-packages (from requests->transformers) (2019.11.28)\n",
            "Requirement already satisfied: urllib3<1.25,>=1.21.1 in /usr/local/lib/python3.6/dist-packages (from requests->transformers) (1.24.3)\n",
            "Requirement already satisfied: botocore<1.15.0,>=1.14.15 in /usr/local/lib/python3.6/dist-packages (from boto3->transformers) (1.14.15)\n",
            "Requirement already satisfied: jmespath<1.0.0,>=0.7.1 in /usr/local/lib/python3.6/dist-packages (from boto3->transformers) (0.9.4)\n",
            "Requirement already satisfied: s3transfer<0.4.0,>=0.3.0 in /usr/local/lib/python3.6/dist-packages (from boto3->transformers) (0.3.3)\n",
            "Requirement already satisfied: docutils<0.16,>=0.10 in /usr/local/lib/python3.6/dist-packages (from botocore<1.15.0,>=1.14.15->boto3->transformers) (0.15.2)\n",
            "Requirement already satisfied: python-dateutil<3.0.0,>=2.1 in /usr/local/lib/python3.6/dist-packages (from botocore<1.15.0,>=1.14.15->boto3->transformers) (2.6.1)\n",
            "Building wheels for collected packages: sacremoses\n",
            "  Building wheel for sacremoses (setup.py) ... \u001b[?25l\u001b[?25hdone\n",
            "  Created wheel for sacremoses: filename=sacremoses-0.0.38-cp36-none-any.whl size=884628 sha256=9f7fe0953116e96e6494d1f240232f5cd28dcce692b17db62d92dd83f5538e09\n",
            "  Stored in directory: /root/.cache/pip/wheels/6d/ec/1a/21b8912e35e02741306f35f66c785f3afe94de754a0eaf1422\n",
            "Successfully built sacremoses\n",
            "Installing collected packages: sentencepiece, sacremoses, tokenizers, transformers\n",
            "Successfully installed sacremoses-0.0.38 sentencepiece-0.1.85 tokenizers-0.5.2 transformers-2.5.1\n"
          ],
          "name": "stdout"
        }
      ]
    },
    {
      "cell_type": "markdown",
      "metadata": {
        "id": "psxejKxaHVA_",
        "colab_type": "text"
      },
      "source": [
        "Import beberapa library yang dibutuhkan."
      ]
    },
    {
      "cell_type": "code",
      "metadata": {
        "id": "uP6XBDjE1WYD",
        "colab_type": "code",
        "colab": {}
      },
      "source": [
        "import torch\n",
        "import transformers as tfm # pytorch transformers\n",
        "from sklearn.linear_model import LogisticRegression"
      ],
      "execution_count": 0,
      "outputs": []
    },
    {
      "cell_type": "markdown",
      "metadata": {
        "id": "O3YDI3q9IbGQ",
        "colab_type": "text"
      },
      "source": [
        "Ada banyak model transformer yang bisa digunakan, saat ini kita coba menggunakan distilBERT. Model lainnya dapat dilihat di https://huggingface.co/transformers/pretrained_models.html"
      ]
    },
    {
      "cell_type": "code",
      "metadata": {
        "id": "A7G0Abvj9lWS",
        "colab_type": "code",
        "colab": {}
      },
      "source": [
        "model_class, tokenizer_class, pretrained_weights = (tfm.DistilBertModel, tfm.DistilBertTokenizer, 'distilbert-base-uncased')"
      ],
      "execution_count": 0,
      "outputs": []
    },
    {
      "cell_type": "markdown",
      "metadata": {
        "id": "yK0QISwPIw0R",
        "colab_type": "text"
      },
      "source": [
        "Load tokenizer dan juga model."
      ]
    },
    {
      "cell_type": "code",
      "metadata": {
        "id": "lV9JkIOK-1FE",
        "colab_type": "code",
        "outputId": "48ef6e98-ad60-442a-f617-b0d3e3496f62",
        "colab": {
          "base_uri": "https://localhost:8080/",
          "height": 163,
          "referenced_widgets": [
            "228720e4db1e47ee8f47a542d59ceea1",
            "682518b5d4e6458fa9058d18cc8982ca",
            "9e12d384748a4c578cfec34d024e6207",
            "9c288f169c9d4d28b757beab227785bc",
            "1e027864b47a43e6b8063facc2a9a6d1",
            "16b970e3e8234083bdaa5d236b087b5f",
            "a11620a9b23a49d7983f77d4d15b9b40",
            "afa30f6944294f5e86f0f870e04dfb10",
            "224461d242794f87853dcefb4e1ae2c0",
            "5a531a09fb8f423ebddc35703e660463",
            "35bfb7a80d6940608fb40f77708bf485",
            "3e2992692aa34ba2b4868a18bc2d83ef",
            "1cb17dc129394328b27a65a7246f045c",
            "907f991e9e194b77a949a01b89b297bb",
            "8587f00239d3444ab48b931837dcd917",
            "2bc4006ff8934bda90c1635e58b0e065",
            "8b4f70c630ea4bd9b36268b5df38cabd",
            "1e857b2470a24329a4b20f0cbfc85983",
            "cb7e1345de394924b4a715c72011b1a8",
            "862286adf5be4abb99c30ccbccc75a5e",
            "11fea3c25b7742018948d4aa8fa752f6",
            "962382e530a6443384b245fb92630198",
            "401ac3b7f3814138b806c425433e8d35",
            "733e76d2e8124752bfe5d01404ba3899"
          ]
        }
      },
      "source": [
        "tokenizer = tokenizer_class.from_pretrained(pretrained_weights)\n",
        "model = model_class.from_pretrained(pretrained_weights)"
      ],
      "execution_count": 0,
      "outputs": [
        {
          "output_type": "display_data",
          "data": {
            "application/vnd.jupyter.widget-view+json": {
              "model_id": "228720e4db1e47ee8f47a542d59ceea1",
              "version_minor": 0,
              "version_major": 2
            },
            "text/plain": [
              "HBox(children=(IntProgress(value=0, description='Downloading', max=231508, style=ProgressStyle(description_wid…"
            ]
          },
          "metadata": {
            "tags": []
          }
        },
        {
          "output_type": "stream",
          "text": [
            "\n"
          ],
          "name": "stdout"
        },
        {
          "output_type": "display_data",
          "data": {
            "application/vnd.jupyter.widget-view+json": {
              "model_id": "224461d242794f87853dcefb4e1ae2c0",
              "version_minor": 0,
              "version_major": 2
            },
            "text/plain": [
              "HBox(children=(IntProgress(value=0, description='Downloading', max=546, style=ProgressStyle(description_width=…"
            ]
          },
          "metadata": {
            "tags": []
          }
        },
        {
          "output_type": "stream",
          "text": [
            "\n"
          ],
          "name": "stdout"
        },
        {
          "output_type": "display_data",
          "data": {
            "application/vnd.jupyter.widget-view+json": {
              "model_id": "8b4f70c630ea4bd9b36268b5df38cabd",
              "version_minor": 0,
              "version_major": 2
            },
            "text/plain": [
              "HBox(children=(IntProgress(value=0, description='Downloading', max=267967963, style=ProgressStyle(description_…"
            ]
          },
          "metadata": {
            "tags": []
          }
        },
        {
          "output_type": "stream",
          "text": [
            "\n"
          ],
          "name": "stdout"
        }
      ]
    },
    {
      "cell_type": "markdown",
      "metadata": {
        "id": "MKBBveH7I0ps",
        "colab_type": "text"
      },
      "source": [
        "Tokenize train_set dan juga validation_set. "
      ]
    },
    {
      "cell_type": "code",
      "metadata": {
        "id": "fTQi47we-CYp",
        "colab_type": "code",
        "outputId": "32a37df3-4f6d-4a9c-f442-6321b7c873dd",
        "colab": {
          "base_uri": "https://localhost:8080/",
          "height": 924
        }
      },
      "source": [
        "train_sequences = train_set['text'].apply((lambda x: tokenizer.encode(x, add_special_tokens=True)))"
      ],
      "execution_count": 0,
      "outputs": [
        {
          "output_type": "stream",
          "text": [
            "Token indices sequence length is longer than the specified maximum sequence length for this model (761 > 512). Running this sequence through the model will result in indexing errors\n",
            "Token indices sequence length is longer than the specified maximum sequence length for this model (527 > 512). Running this sequence through the model will result in indexing errors\n",
            "Token indices sequence length is longer than the specified maximum sequence length for this model (523 > 512). Running this sequence through the model will result in indexing errors\n",
            "Token indices sequence length is longer than the specified maximum sequence length for this model (1046 > 512). Running this sequence through the model will result in indexing errors\n",
            "Token indices sequence length is longer than the specified maximum sequence length for this model (518 > 512). Running this sequence through the model will result in indexing errors\n",
            "Token indices sequence length is longer than the specified maximum sequence length for this model (521 > 512). Running this sequence through the model will result in indexing errors\n",
            "Token indices sequence length is longer than the specified maximum sequence length for this model (590 > 512). Running this sequence through the model will result in indexing errors\n",
            "Token indices sequence length is longer than the specified maximum sequence length for this model (567 > 512). Running this sequence through the model will result in indexing errors\n",
            "Token indices sequence length is longer than the specified maximum sequence length for this model (674 > 512). Running this sequence through the model will result in indexing errors\n",
            "Token indices sequence length is longer than the specified maximum sequence length for this model (2443 > 512). Running this sequence through the model will result in indexing errors\n",
            "Token indices sequence length is longer than the specified maximum sequence length for this model (567 > 512). Running this sequence through the model will result in indexing errors\n",
            "Token indices sequence length is longer than the specified maximum sequence length for this model (599 > 512). Running this sequence through the model will result in indexing errors\n",
            "Token indices sequence length is longer than the specified maximum sequence length for this model (690 > 512). Running this sequence through the model will result in indexing errors\n",
            "Token indices sequence length is longer than the specified maximum sequence length for this model (1657 > 512). Running this sequence through the model will result in indexing errors\n",
            "Token indices sequence length is longer than the specified maximum sequence length for this model (520 > 512). Running this sequence through the model will result in indexing errors\n",
            "Token indices sequence length is longer than the specified maximum sequence length for this model (539 > 512). Running this sequence through the model will result in indexing errors\n",
            "Token indices sequence length is longer than the specified maximum sequence length for this model (519 > 512). Running this sequence through the model will result in indexing errors\n",
            "Token indices sequence length is longer than the specified maximum sequence length for this model (544 > 512). Running this sequence through the model will result in indexing errors\n",
            "Token indices sequence length is longer than the specified maximum sequence length for this model (689 > 512). Running this sequence through the model will result in indexing errors\n",
            "Token indices sequence length is longer than the specified maximum sequence length for this model (575 > 512). Running this sequence through the model will result in indexing errors\n",
            "Token indices sequence length is longer than the specified maximum sequence length for this model (554 > 512). Running this sequence through the model will result in indexing errors\n",
            "Token indices sequence length is longer than the specified maximum sequence length for this model (661 > 512). Running this sequence through the model will result in indexing errors\n",
            "Token indices sequence length is longer than the specified maximum sequence length for this model (591 > 512). Running this sequence through the model will result in indexing errors\n",
            "Token indices sequence length is longer than the specified maximum sequence length for this model (534 > 512). Running this sequence through the model will result in indexing errors\n",
            "Token indices sequence length is longer than the specified maximum sequence length for this model (664 > 512). Running this sequence through the model will result in indexing errors\n",
            "Token indices sequence length is longer than the specified maximum sequence length for this model (1779 > 512). Running this sequence through the model will result in indexing errors\n",
            "Token indices sequence length is longer than the specified maximum sequence length for this model (569 > 512). Running this sequence through the model will result in indexing errors\n",
            "Token indices sequence length is longer than the specified maximum sequence length for this model (518 > 512). Running this sequence through the model will result in indexing errors\n",
            "Token indices sequence length is longer than the specified maximum sequence length for this model (569 > 512). Running this sequence through the model will result in indexing errors\n",
            "Token indices sequence length is longer than the specified maximum sequence length for this model (567 > 512). Running this sequence through the model will result in indexing errors\n",
            "Token indices sequence length is longer than the specified maximum sequence length for this model (544 > 512). Running this sequence through the model will result in indexing errors\n",
            "Token indices sequence length is longer than the specified maximum sequence length for this model (1291 > 512). Running this sequence through the model will result in indexing errors\n",
            "Token indices sequence length is longer than the specified maximum sequence length for this model (1485 > 512). Running this sequence through the model will result in indexing errors\n",
            "Token indices sequence length is longer than the specified maximum sequence length for this model (591 > 512). Running this sequence through the model will result in indexing errors\n",
            "Token indices sequence length is longer than the specified maximum sequence length for this model (593 > 512). Running this sequence through the model will result in indexing errors\n",
            "Token indices sequence length is longer than the specified maximum sequence length for this model (773 > 512). Running this sequence through the model will result in indexing errors\n",
            "Token indices sequence length is longer than the specified maximum sequence length for this model (733 > 512). Running this sequence through the model will result in indexing errors\n",
            "Token indices sequence length is longer than the specified maximum sequence length for this model (546 > 512). Running this sequence through the model will result in indexing errors\n",
            "Token indices sequence length is longer than the specified maximum sequence length for this model (585 > 512). Running this sequence through the model will result in indexing errors\n",
            "Token indices sequence length is longer than the specified maximum sequence length for this model (775 > 512). Running this sequence through the model will result in indexing errors\n",
            "Token indices sequence length is longer than the specified maximum sequence length for this model (555 > 512). Running this sequence through the model will result in indexing errors\n",
            "Token indices sequence length is longer than the specified maximum sequence length for this model (555 > 512). Running this sequence through the model will result in indexing errors\n",
            "Token indices sequence length is longer than the specified maximum sequence length for this model (631 > 512). Running this sequence through the model will result in indexing errors\n",
            "Token indices sequence length is longer than the specified maximum sequence length for this model (523 > 512). Running this sequence through the model will result in indexing errors\n",
            "Token indices sequence length is longer than the specified maximum sequence length for this model (547 > 512). Running this sequence through the model will result in indexing errors\n",
            "Token indices sequence length is longer than the specified maximum sequence length for this model (589 > 512). Running this sequence through the model will result in indexing errors\n",
            "Token indices sequence length is longer than the specified maximum sequence length for this model (564 > 512). Running this sequence through the model will result in indexing errors\n",
            "Token indices sequence length is longer than the specified maximum sequence length for this model (525 > 512). Running this sequence through the model will result in indexing errors\n",
            "Token indices sequence length is longer than the specified maximum sequence length for this model (588 > 512). Running this sequence through the model will result in indexing errors\n",
            "Token indices sequence length is longer than the specified maximum sequence length for this model (541 > 512). Running this sequence through the model will result in indexing errors\n",
            "Token indices sequence length is longer than the specified maximum sequence length for this model (969 > 512). Running this sequence through the model will result in indexing errors\n",
            "Token indices sequence length is longer than the specified maximum sequence length for this model (1616 > 512). Running this sequence through the model will result in indexing errors\n",
            "Token indices sequence length is longer than the specified maximum sequence length for this model (1957 > 512). Running this sequence through the model will result in indexing errors\n",
            "Token indices sequence length is longer than the specified maximum sequence length for this model (796 > 512). Running this sequence through the model will result in indexing errors\n"
          ],
          "name": "stderr"
        }
      ]
    },
    {
      "cell_type": "code",
      "metadata": {
        "id": "MKVCz6sO-pCR",
        "colab_type": "code",
        "outputId": "f84ea176-90f4-4991-ac02-44943fcbfe22",
        "colab": {
          "base_uri": "https://localhost:8080/",
          "height": 252
        }
      },
      "source": [
        "validation_sequences = validation_set['text'].apply((lambda x: tokenizer.encode(x, add_special_tokens=True)))"
      ],
      "execution_count": 0,
      "outputs": [
        {
          "output_type": "stream",
          "text": [
            "Token indices sequence length is longer than the specified maximum sequence length for this model (570 > 512). Running this sequence through the model will result in indexing errors\n",
            "Token indices sequence length is longer than the specified maximum sequence length for this model (529 > 512). Running this sequence through the model will result in indexing errors\n",
            "Token indices sequence length is longer than the specified maximum sequence length for this model (616 > 512). Running this sequence through the model will result in indexing errors\n",
            "Token indices sequence length is longer than the specified maximum sequence length for this model (531 > 512). Running this sequence through the model will result in indexing errors\n",
            "Token indices sequence length is longer than the specified maximum sequence length for this model (986 > 512). Running this sequence through the model will result in indexing errors\n",
            "Token indices sequence length is longer than the specified maximum sequence length for this model (546 > 512). Running this sequence through the model will result in indexing errors\n",
            "Token indices sequence length is longer than the specified maximum sequence length for this model (547 > 512). Running this sequence through the model will result in indexing errors\n",
            "Token indices sequence length is longer than the specified maximum sequence length for this model (525 > 512). Running this sequence through the model will result in indexing errors\n",
            "Token indices sequence length is longer than the specified maximum sequence length for this model (611 > 512). Running this sequence through the model will result in indexing errors\n",
            "Token indices sequence length is longer than the specified maximum sequence length for this model (554 > 512). Running this sequence through the model will result in indexing errors\n",
            "Token indices sequence length is longer than the specified maximum sequence length for this model (512 > 512). Running this sequence through the model will result in indexing errors\n",
            "Token indices sequence length is longer than the specified maximum sequence length for this model (518 > 512). Running this sequence through the model will result in indexing errors\n",
            "Token indices sequence length is longer than the specified maximum sequence length for this model (544 > 512). Running this sequence through the model will result in indexing errors\n",
            "Token indices sequence length is longer than the specified maximum sequence length for this model (584 > 512). Running this sequence through the model will result in indexing errors\n"
          ],
          "name": "stderr"
        }
      ]
    },
    {
      "cell_type": "code",
      "metadata": {
        "id": "uiDbJML3_IQm",
        "colab_type": "code",
        "colab": {}
      },
      "source": [
        "train_padded = pad_sequences(train_sequences, maxlen=max_length, padding=padding_type, truncating=trunc_type)"
      ],
      "execution_count": 0,
      "outputs": []
    },
    {
      "cell_type": "code",
      "metadata": {
        "id": "u43BlzLF_yBa",
        "colab_type": "code",
        "colab": {}
      },
      "source": [
        "validation_padded = pad_sequences(validation_sequences, maxlen=max_length, padding=padding_type, truncating=trunc_type)"
      ],
      "execution_count": 0,
      "outputs": []
    },
    {
      "cell_type": "markdown",
      "metadata": {
        "id": "2SY7No_2Jz-h",
        "colab_type": "text"
      },
      "source": [
        "Ubah `train_padded` dan `validation_padded` ke dalam bentuk tensor. Lalu jalankan model (forward pass). DistilBERT memiliki hidden unit sebanyak 768."
      ]
    },
    {
      "cell_type": "code",
      "metadata": {
        "id": "gqewXSNB__Cb",
        "colab_type": "code",
        "colab": {}
      },
      "source": [
        "train_ids = torch.tensor(np.array(train_padded)).to(torch.int64)\n",
        "with torch.no_grad():\n",
        "    train_last_hidden_states = model(train_ids)"
      ],
      "execution_count": 0,
      "outputs": []
    },
    {
      "cell_type": "code",
      "metadata": {
        "id": "pZCYzPZcF5Ih",
        "colab_type": "code",
        "colab": {}
      },
      "source": [
        "validation_ids = torch.tensor(np.array(validation_padded)).to(torch.int64)\n",
        "with torch.no_grad():\n",
        "    validation_last_hidden_states = model(validation_ids)"
      ],
      "execution_count": 0,
      "outputs": []
    },
    {
      "cell_type": "markdown",
      "metadata": {
        "id": "whSJAgCSYJ48",
        "colab_type": "text"
      },
      "source": [
        "Shape dari `last_hidden_states` yaitu `[jumlah data, panjang sekuens, jumlah hidden units]`."
      ]
    },
    {
      "cell_type": "code",
      "metadata": {
        "id": "nGpIyhLUAJCS",
        "colab_type": "code",
        "outputId": "27a2852a-0b8f-4ba2-ceca-ecb89cd2345a",
        "colab": {
          "base_uri": "https://localhost:8080/",
          "height": 34
        }
      },
      "source": [
        "train_last_hidden_states[0].shape"
      ],
      "execution_count": 0,
      "outputs": [
        {
          "output_type": "execute_result",
          "data": {
            "text/plain": [
              "torch.Size([1780, 200, 768])"
            ]
          },
          "metadata": {
            "tags": []
          },
          "execution_count": 73
        }
      ]
    },
    {
      "cell_type": "markdown",
      "metadata": {
        "id": "bmxhgm2kYZOB",
        "colab_type": "text"
      },
      "source": [
        "Untuk teks classification, kita bisa menggunakan hanya output posisi pertama dari 200 output yang dikeluarkan model. Karena terdapat self-attention di dalam model tersebut, maka setiap posisi output akan memiliki aliran informasi dari semua posisi input, tidak hanya dari posisi input yang bersesuaian."
      ]
    },
    {
      "cell_type": "code",
      "metadata": {
        "id": "wqukCU22C4gz",
        "colab_type": "code",
        "colab": {}
      },
      "source": [
        "train_features = train_last_hidden_states[0][:,0,:].numpy()"
      ],
      "execution_count": 0,
      "outputs": []
    },
    {
      "cell_type": "code",
      "metadata": {
        "id": "eFXaueUNGotp",
        "colab_type": "code",
        "colab": {}
      },
      "source": [
        "validation_features = validation_last_hidden_states[0][:,0,:].numpy()"
      ],
      "execution_count": 0,
      "outputs": []
    },
    {
      "cell_type": "code",
      "metadata": {
        "id": "80uMx-PiD-bX",
        "colab_type": "code",
        "outputId": "c2155cf1-2262-4027-b121-430d835195dd",
        "colab": {
          "base_uri": "https://localhost:8080/",
          "height": 1000
        }
      },
      "source": [
        "train_features[0]"
      ],
      "execution_count": 0,
      "outputs": [
        {
          "output_type": "execute_result",
          "data": {
            "text/plain": [
              "array([ 2.48080388e-01,  2.04793781e-01,  3.78549397e-01,  4.46929008e-01,\n",
              "        1.50833189e-01, -1.44618765e-01,  1.13854431e-01,  4.42507595e-01,\n",
              "       -3.30757827e-01, -1.41197607e-01,  2.53597379e-01, -2.92316824e-01,\n",
              "       -3.27488147e-02,  4.58119363e-01, -2.69518465e-01,  2.41658166e-01,\n",
              "        5.91956964e-03,  5.04540801e-01, -2.48884261e-02,  4.08302814e-01,\n",
              "        5.01435041e-01, -8.51372182e-02,  3.07783157e-01, -6.98667318e-02,\n",
              "        2.80450314e-01, -2.27801248e-01, -1.52133852e-01, -1.47802634e-02,\n",
              "        1.68139562e-01,  1.15813367e-01, -4.22211923e-02, -1.93968475e-01,\n",
              "       -2.13252693e-01, -3.33143920e-01,  2.23356366e-01, -4.63325679e-02,\n",
              "        3.97536904e-01,  6.09043278e-02, -4.38380599e-01,  1.80372804e-01,\n",
              "       -5.69559574e-01, -7.48178735e-02,  2.52979159e-01,  2.83001531e-02,\n",
              "        3.40195507e-01,  3.44524533e-02, -3.27709556e-01, -3.58494878e-01,\n",
              "        1.54593289e-01, -5.66175133e-02, -2.95305867e-02, -1.46187335e-01,\n",
              "       -2.62136385e-02, -2.10973859e-01,  1.35313481e-01,  5.96906543e-01,\n",
              "       -8.18848684e-02, -3.31891507e-01, -5.86540759e-01,  5.39810695e-02,\n",
              "        5.00756577e-02, -8.10104832e-02, -2.93791950e-01, -4.22603250e-01,\n",
              "        4.10470933e-01, -4.14382786e-01, -4.16502869e-03,  7.04682052e-01,\n",
              "       -2.79516578e-01,  1.63616478e-01, -1.76206976e-01, -6.46526456e-01,\n",
              "        3.74561936e-01,  2.33092532e-01, -1.88323662e-01,  7.37028047e-02,\n",
              "       -2.81820416e-01,  5.32240272e-01,  2.48614699e-01, -7.92431235e-01,\n",
              "       -3.83448452e-01,  3.12807232e-01, -4.65827554e-01,  3.52994114e-01,\n",
              "       -2.86173145e-03,  1.27977327e-01, -2.25886583e-01,  2.10074097e-01,\n",
              "       -3.68221223e-01,  5.74147165e-01,  4.13616329e-01, -4.92126673e-01,\n",
              "        1.53538734e-01, -1.12350002e-01,  9.69889853e-03,  2.07414389e-01,\n",
              "       -3.48656148e-01,  2.15044931e-01, -3.15479279e-01, -2.29331683e-02,\n",
              "        6.91385120e-02,  3.04287106e-01,  5.84023654e-01, -3.05847585e-01,\n",
              "        5.83400846e-01, -2.63590008e-01,  2.10961491e-01, -5.05398251e-02,\n",
              "        4.72471505e-01,  1.45808645e-02,  3.49097311e-01, -4.70321476e-01,\n",
              "       -5.45500576e-01, -1.65515423e-01, -3.27505022e-01, -1.25992671e-01,\n",
              "        1.89263988e-02, -1.02394864e-01,  1.25871226e-01,  7.23038316e-02,\n",
              "        2.07463622e-01, -6.94286704e-01, -2.97149867e-01,  6.42267406e-01,\n",
              "       -1.51561692e-01,  2.47657999e-01, -4.95922953e-01, -1.99516714e-01,\n",
              "        4.08375442e-01, -2.51779030e-03,  8.09728429e-02, -4.42119911e-02,\n",
              "       -2.98328400e-01, -9.99256447e-02,  3.97662818e-02,  9.88633156e-01,\n",
              "        1.08763175e-02,  7.63328895e-02, -4.43168104e-01,  1.26434356e-01,\n",
              "        3.46406341e-01, -2.09287941e-01,  3.16699505e-01,  6.08033910e-02,\n",
              "        2.18430519e-01,  1.54563680e-01, -3.94402117e-01,  2.80230176e-02,\n",
              "       -1.77501425e-01, -3.12505253e-02, -1.69119716e-01, -2.15760395e-01,\n",
              "        2.09756583e-01,  6.87280810e-03,  1.94342047e-01, -1.18946195e-01,\n",
              "       -2.66900390e-01,  1.06951207e-01,  4.71565239e-02, -2.02209368e-01,\n",
              "        5.63474856e-02,  7.74602145e-02,  1.76697254e-01,  3.98131728e-01,\n",
              "       -7.96312913e-02,  1.44156575e-01,  1.61238551e-01,  4.49889004e-01,\n",
              "       -2.00169489e-01, -3.14223886e-01,  5.24866506e-02,  5.67268550e-01,\n",
              "        9.85407829e-01, -1.84376508e-01, -6.23318106e-02,  2.75441799e-02,\n",
              "        1.68232620e-01,  5.32176137e-01, -3.16250250e-02,  2.34431639e-01,\n",
              "       -7.62175143e-01,  5.81037514e-02, -1.28087968e-01, -8.33010674e-02,\n",
              "        3.56847674e-01,  1.50075659e-01,  2.73202926e-01,  1.58038870e-01,\n",
              "       -8.37333675e-04, -2.39230096e-01, -5.64287901e-01, -2.57414877e-01,\n",
              "       -1.29979685e-01, -7.41539672e-02,  3.51613164e-01, -1.32667884e-01,\n",
              "        1.72972634e-01, -3.29832397e-02, -3.39586198e-01, -5.96681833e-01,\n",
              "       -1.46557674e-01, -3.25515270e-02,  4.44163382e-01,  2.77318954e-01,\n",
              "       -8.76155868e-02, -3.70931059e-01, -2.24996377e-02, -3.74952912e-01,\n",
              "        6.25730492e-03,  9.48158279e-02, -2.37896040e-01,  7.19938129e-02,\n",
              "        1.96471095e-01,  6.07040524e-01, -1.41111955e-01, -4.18700248e-01,\n",
              "       -1.85350642e-01, -3.00796419e-01, -6.37140963e-03,  3.29615653e-01,\n",
              "       -4.00476307e-02,  1.76181495e-01, -3.07657540e-01,  6.85464859e-01,\n",
              "       -2.68081218e-01,  1.01096106e+00,  2.28902102e-01, -5.40076077e-01,\n",
              "       -1.32285655e-01,  8.19112360e-02,  4.02841508e-01, -3.03352147e-01,\n",
              "        5.88437259e-01, -3.58785838e-01, -1.12985685e-01,  1.08604573e-01,\n",
              "       -4.78913605e-01, -4.19210047e-01, -5.97240292e-02, -4.03132886e-01,\n",
              "       -9.45340618e-02, -8.60676691e-02,  2.92371005e-01, -3.48213583e-01,\n",
              "        3.62529039e-01, -1.89704522e-01,  3.45106162e-02, -1.17350362e-01,\n",
              "        7.95731321e-02, -6.80633038e-02, -4.63033468e-02,  1.25848189e-01,\n",
              "       -8.85236487e-02, -3.60002488e-01,  2.31166240e-02, -2.32736707e-01,\n",
              "        2.91865706e-01, -2.92943507e-01, -1.61024779e-01, -5.85001297e-02,\n",
              "       -1.32936344e-01, -4.80608977e-02,  3.61167014e-01, -4.32872996e-02,\n",
              "       -1.38034761e-01, -4.73569036e-01,  3.58208984e-01,  4.16356511e-02,\n",
              "       -2.79011130e-01, -2.38615304e-01,  4.74442124e-01, -1.70220397e-02,\n",
              "       -2.18710631e-01,  1.01853764e+00,  7.15261698e-02, -3.31857763e-02,\n",
              "        6.06368780e-01, -2.72689730e-01,  4.38287497e-01, -1.21818937e-01,\n",
              "        4.39686000e-01,  1.91902190e-01,  1.09005302e-01, -1.14744017e-02,\n",
              "       -2.37639204e-01,  2.61410270e-02, -1.52100906e-01,  2.49701172e-01,\n",
              "       -2.52864927e-01, -9.33635905e-02,  1.70816749e-01,  3.68803591e-01,\n",
              "       -2.10396975e-01, -3.65735292e-01,  4.58192527e-01,  1.37526676e-01,\n",
              "        1.49928048e-01,  2.19979018e-01,  6.48736581e-02, -4.26794320e-01,\n",
              "       -4.20615435e-01,  2.38445148e-01,  2.21638158e-01,  1.01198725e-01,\n",
              "        2.06318676e-01,  1.04988351e-01, -5.94543898e-03, -3.68405938e-01,\n",
              "       -4.70181465e+00, -1.30242720e-01,  1.70520097e-01, -4.18470174e-01,\n",
              "        1.04246832e-01, -8.57879370e-02,  2.09024265e-01,  1.96940437e-01,\n",
              "       -4.71166104e-01,  1.42809972e-01,  1.34998947e-01, -2.16251254e-01,\n",
              "        2.54753292e-01,  3.20029587e-01,  2.36188591e-01,  8.14129859e-02,\n",
              "        1.13720205e-02,  6.50606155e-02, -2.78231859e-01,  4.41557795e-01,\n",
              "       -3.12327296e-01, -4.24053445e-02,  8.38688463e-02, -3.14744145e-01,\n",
              "        2.39994869e-01,  2.53634602e-01,  7.66358897e-02, -1.46754161e-01,\n",
              "        1.19528130e-01, -3.28055620e-01,  2.29429170e-01, -1.80862293e-01,\n",
              "       -4.64500785e-01,  2.55862534e-01, -1.33584589e-01,  1.35496050e-01,\n",
              "        2.28050336e-01, -4.35487807e-01, -1.24130666e-01, -2.26447925e-01,\n",
              "       -4.80048545e-02, -7.35456288e-01,  5.54116890e-02,  7.23698437e-02,\n",
              "        9.27882791e-01, -2.74310857e-01,  2.52481792e-02, -5.57907531e-03,\n",
              "       -1.43623158e-01,  2.34138995e-01,  2.43187681e-01,  2.27694839e-01,\n",
              "        1.14968255e-01, -5.75279176e-01, -1.61898702e-01,  4.68343586e-01,\n",
              "        6.92855775e-01,  5.42990983e-01, -2.67475098e-01, -5.27370691e-01,\n",
              "        2.72161633e-01,  4.22101542e-02, -5.59940755e-01,  8.39617029e-02,\n",
              "       -1.25376031e-01, -4.46758002e-01,  1.48451105e-01,  5.79122901e-01,\n",
              "       -4.13687974e-01,  3.64095181e-01, -5.15652597e-01,  1.37304217e-01,\n",
              "       -4.98871148e-01, -3.52045834e-01, -1.59161344e-01, -3.32251757e-01,\n",
              "        4.35784489e-01, -2.05887944e-01,  4.25521880e-02,  1.81189165e-01,\n",
              "       -2.96117127e-01, -3.51955220e-02, -1.67436033e-01,  3.50785822e-01,\n",
              "       -3.41974169e-01, -1.30864292e-01, -2.10289642e-01, -2.27255791e-01,\n",
              "       -5.32370865e-01, -5.25632977e-01,  1.14275500e-01,  1.52153626e-01,\n",
              "        1.43348873e-01, -4.02496988e-03,  4.52728599e-01, -7.85530359e-02,\n",
              "        3.72990757e-01,  8.60016644e-02,  2.10475266e-01, -5.89244902e-01,\n",
              "       -1.90261334e-01,  1.22766763e-01,  1.97447866e-01, -3.13065767e-01,\n",
              "       -2.58172750e-02, -2.63784558e-01, -1.32092237e-01, -1.41922366e-02,\n",
              "       -7.19005316e-02, -4.71474677e-02,  4.04824279e-02,  1.32642537e-02,\n",
              "        4.25243676e-02,  1.46845728e-01, -4.37915474e-02, -6.11664176e-01,\n",
              "       -6.38343990e-02,  9.10817802e-01,  2.32068315e-01, -4.00582671e-01,\n",
              "       -2.17150286e-01,  6.04318142e-01,  2.46367082e-02, -1.04530804e-01,\n",
              "       -2.44479507e-01,  7.44445771e-02,  1.90112069e-01, -1.59757778e-01,\n",
              "        2.03104854e-01, -9.87334847e-02, -4.87941504e-01,  7.91888684e-02,\n",
              "       -8.98669511e-02,  4.94529337e-01,  2.45920300e-01, -9.48494002e-02,\n",
              "        3.18053842e-01, -5.77208102e-01, -1.70951083e-01,  4.93459225e-01,\n",
              "       -2.46129125e-01,  9.78770759e-03, -3.37354988e-01, -2.19130501e-01,\n",
              "       -6.16797432e-02,  3.32475364e-01, -1.51302084e-01, -1.16115065e-04,\n",
              "       -1.33481741e-01,  1.29743829e-01, -8.45330119e-01, -1.85888261e-01,\n",
              "       -3.26429188e-01, -4.48908031e-01,  6.91550300e-02,  2.23307848e-01,\n",
              "       -7.83042967e-01, -7.43793249e-02,  8.84967223e-02, -1.26276135e+00,\n",
              "        2.30578214e-01,  2.81013638e-01,  6.25035912e-02,  4.98844147e-01,\n",
              "       -2.47283220e-01,  4.35642034e-01, -4.70014036e-01,  2.83148214e-02,\n",
              "       -1.45115508e-02,  6.88748956e-02, -1.79427758e-01, -4.14180420e-02,\n",
              "        3.41409206e-01, -4.67812479e-01, -1.83535248e-01,  8.69091690e-01,\n",
              "        3.23854089e-01, -5.49915254e-01, -1.77323520e-01,  3.19400311e-01,\n",
              "        3.22726250e-01, -7.63192922e-02, -5.32106161e-01, -1.89699903e-02,\n",
              "        8.47697444e-03,  6.27255023e-01,  3.19944412e-01, -3.82612981e-02,\n",
              "        3.53098035e-01,  3.76022816e-01, -3.61902624e-01,  4.39867914e-01,\n",
              "       -1.99689224e-01,  2.19094530e-02,  1.67640485e-02, -2.48135492e-01,\n",
              "        8.99874568e-01, -5.51630668e-02,  1.20111115e-01, -3.70486051e-01,\n",
              "        2.65975036e-02, -5.90146855e-02,  2.49680430e-01,  3.00515801e-01,\n",
              "        1.05357558e-01, -1.13047240e-02,  5.74859641e-02, -4.32862677e-02,\n",
              "       -9.13820416e-02,  2.32651219e-01, -9.33586583e-02, -2.73881912e-01,\n",
              "       -1.07181698e-01,  7.27340057e-02,  3.67067382e-02, -4.35920656e-01,\n",
              "       -1.56391829e-01,  1.61824659e-01, -8.67703855e-01,  1.11437604e-01,\n",
              "       -3.38431209e-01, -1.69351742e-01,  9.55520272e-02,  4.46259324e-03,\n",
              "       -1.91674501e-01,  1.63079768e-01,  5.11433721e-01,  9.13281068e-02,\n",
              "       -1.42556354e-01, -3.77797455e-01,  2.08675653e-01, -3.05892974e-01,\n",
              "       -3.21440309e-01, -2.61121392e-01, -1.93207130e-01,  5.68775117e-01,\n",
              "        7.85754621e-02, -8.28635514e-01,  4.51443434e-01,  1.20791353e-01,\n",
              "       -3.39271367e-01, -2.42948547e-01,  2.33143002e-01, -7.93527067e-01,\n",
              "        1.90281019e-01,  3.09869885e-01,  5.08403638e-03,  3.22053552e-01,\n",
              "       -1.50154009e-02,  1.15350164e-01,  1.64591342e-01,  1.29787177e-01,\n",
              "        1.28385752e-01, -3.44975233e-01, -2.31493711e-02, -6.98065877e-01,\n",
              "        1.00665828e-02,  1.74727216e-01, -6.33518338e-01,  2.26350967e-02,\n",
              "       -1.63344100e-01,  1.18942242e-02, -2.61587173e-01, -2.29049735e-02,\n",
              "        4.90666121e-01, -1.02284044e-01,  3.59002113e-01,  3.21044058e-01,\n",
              "        6.51850477e-02, -6.18888319e-01,  1.33326009e-01,  1.49331287e-01,\n",
              "       -9.45131928e-02, -7.37706423e-01,  1.43664822e-01,  3.08373630e-01,\n",
              "        9.63805094e-02, -7.92630196e-01, -2.68534124e-01,  8.42763633e-02,\n",
              "       -5.31090498e-01, -1.09310523e-01,  4.96826768e-02, -2.49513209e-01,\n",
              "        3.38909537e-01, -1.54350936e-01, -1.82379872e-01,  2.40991324e-01,\n",
              "       -1.63377881e-01,  1.21941969e-01,  3.51724982e-01, -9.29393470e-02,\n",
              "       -2.69922227e-01, -1.24817863e-01,  5.98029494e-02,  5.37534833e-01,\n",
              "        1.73348948e-01, -2.10455298e-01,  4.16774452e-01,  4.23568562e-02,\n",
              "       -2.35267863e-01, -1.12690374e-01,  2.18685418e-01, -4.74016741e-02,\n",
              "        6.82945922e-02, -7.86210820e-02, -1.91202015e-01, -7.85853207e-01,\n",
              "        1.94711789e-01, -3.05960961e-02, -3.94821703e-01,  6.17525876e-02,\n",
              "        6.17111802e-01,  3.59066844e-01, -3.58770192e-01, -1.58807531e-01,\n",
              "       -1.75686106e-02, -9.09864604e-02, -2.23532632e-01,  2.42521062e-01,\n",
              "        2.41379254e-02,  3.79924357e-01,  6.88663423e-01, -3.69577289e-01,\n",
              "        5.65631330e-01,  1.57197610e-01,  5.65843955e-02,  6.87099025e-02,\n",
              "        1.47196323e-01,  3.95989925e-01, -3.21531087e-01,  6.70981407e-02,\n",
              "        5.19935563e-02,  4.08040524e-01,  8.16816688e-02, -5.01461998e-02,\n",
              "       -9.77579206e-02,  1.23132437e-01,  2.83610791e-01,  4.84813936e-02,\n",
              "        2.21254900e-01,  1.67581603e-01,  3.47494870e-01, -1.92484155e-01,\n",
              "        9.11414698e-02,  3.02086473e-01, -1.27994597e-01,  3.96634340e-01,\n",
              "        5.62074423e-01,  1.22401163e-01,  2.49672562e-01,  2.86112815e-01,\n",
              "       -6.05999865e-02, -3.22831035e-01,  2.49973312e-01,  1.99047431e-01,\n",
              "        2.37286761e-01,  7.46672571e-01,  3.40159178e-01,  4.38064247e-01,\n",
              "        2.86100924e-01,  4.32673484e-01,  2.52243821e-02, -2.48025522e-01,\n",
              "       -2.92365044e-01,  2.92203695e-01,  1.36894897e-01, -2.91790962e-01,\n",
              "       -4.42078888e-01, -1.99601248e-01, -3.89993608e-01,  1.67381778e-01,\n",
              "       -2.85421520e-01, -2.22433388e-01, -2.30534688e-01,  3.78720522e-01,\n",
              "        3.45849469e-02, -7.04435468e-01, -3.02496254e-01,  2.70251986e-02,\n",
              "        6.24272116e-02,  1.18307844e-01, -3.38753849e-01, -2.01641753e-01,\n",
              "       -1.94746908e-02,  3.23840320e-01, -1.35119915e-01, -4.60376814e-02,\n",
              "        5.11599891e-03,  8.41062665e-02, -4.94782120e-01, -1.31470725e-01,\n",
              "        3.71202379e-01, -1.86361291e-03, -7.17664510e-02, -3.95429790e-01,\n",
              "       -4.30533916e-01, -4.23443735e-01,  4.68491971e-01, -2.48609200e-01,\n",
              "        1.01181768e-01, -4.93401252e-02,  3.13547216e-02,  2.35259887e-02,\n",
              "        4.82226670e-01, -2.47841813e-02, -1.33172318e-01,  4.91169661e-01,\n",
              "       -2.99065351e-01,  2.40927547e-01, -1.45666957e-01,  4.05966938e-01,\n",
              "       -3.93763125e-01, -6.95393234e-02, -6.43001720e-02,  8.11950564e-02,\n",
              "        4.10067409e-01,  6.02795839e-01, -3.17888081e-01, -8.27668048e-03,\n",
              "       -6.93378225e-02,  7.48259202e-02,  5.60556471e-01, -1.89330146e-01,\n",
              "       -3.38614255e-01, -3.83972734e-01, -1.29872710e-02,  2.36997768e-01,\n",
              "       -6.55425116e-02,  7.00814500e-02, -6.67777300e-01,  2.34082088e-01,\n",
              "       -2.76012063e-01,  3.84073228e-01, -1.46587491e-02,  3.01431060e-01,\n",
              "       -4.76188004e-01,  3.75267804e-01,  4.21707600e-01,  4.12158102e-01,\n",
              "        3.94737601e-01,  2.45278612e-01, -1.80904850e-01, -9.94691849e-02,\n",
              "        3.52025270e-01, -1.42206118e-01, -2.11867094e-02, -8.63341093e-02,\n",
              "       -3.93795639e-01, -6.63980365e-01, -3.47125411e-01, -3.85860950e-01,\n",
              "        2.06355732e-02, -4.28491563e-01, -2.59645075e-01, -2.90885389e-01,\n",
              "        1.76877044e-02, -3.37976098e-01, -2.73595005e-01, -2.12320223e-01],\n",
              "      dtype=float32)"
            ]
          },
          "metadata": {
            "tags": []
          },
          "execution_count": 76
        }
      ]
    },
    {
      "cell_type": "code",
      "metadata": {
        "id": "gIIuKhDvETKr",
        "colab_type": "code",
        "colab": {}
      },
      "source": [
        "train_label = training_label_seq.squeeze()\n",
        "validation_label = validation_label_seq.squeeze()"
      ],
      "execution_count": 0,
      "outputs": []
    },
    {
      "cell_type": "markdown",
      "metadata": {
        "id": "V1wRsY-bZD71",
        "colab_type": "text"
      },
      "source": [
        "Coba gunakan logistic regression sederhana untuk melakukan klasifikasi."
      ]
    },
    {
      "cell_type": "code",
      "metadata": {
        "id": "qEmGR2zOD0CR",
        "colab_type": "code",
        "outputId": "b788ebd2-3d8c-4592-98b0-d850cc7d706b",
        "colab": {
          "base_uri": "https://localhost:8080/",
          "height": 101
        }
      },
      "source": [
        "lr_clf = LogisticRegression(max_iter=500)\n",
        "lr_clf.fit(train_features, train_label)"
      ],
      "execution_count": 0,
      "outputs": [
        {
          "output_type": "execute_result",
          "data": {
            "text/plain": [
              "LogisticRegression(C=1.0, class_weight=None, dual=False, fit_intercept=True,\n",
              "                   intercept_scaling=1, l1_ratio=None, max_iter=500,\n",
              "                   multi_class='auto', n_jobs=None, penalty='l2',\n",
              "                   random_state=None, solver='lbfgs', tol=0.0001, verbose=0,\n",
              "                   warm_start=False)"
            ]
          },
          "metadata": {
            "tags": []
          },
          "execution_count": 78
        }
      ]
    },
    {
      "cell_type": "markdown",
      "metadata": {
        "id": "lx5vgLZMZIiv",
        "colab_type": "text"
      },
      "source": [
        "Ternyata akurasi train dan validationnya cukup tinggi."
      ]
    },
    {
      "cell_type": "code",
      "metadata": {
        "id": "y2oxzLNWEvOu",
        "colab_type": "code",
        "outputId": "4002c0e9-85f7-4665-80f8-05799a6d2648",
        "colab": {
          "base_uri": "https://localhost:8080/",
          "height": 34
        }
      },
      "source": [
        "lr_clf.score(train_features, train_label)"
      ],
      "execution_count": 0,
      "outputs": [
        {
          "output_type": "execute_result",
          "data": {
            "text/plain": [
              "0.998876404494382"
            ]
          },
          "metadata": {
            "tags": []
          },
          "execution_count": 79
        }
      ]
    },
    {
      "cell_type": "code",
      "metadata": {
        "id": "7kPC7Lv2FgJz",
        "colab_type": "code",
        "outputId": "0f0d192d-b7e8-4554-ab42-ce569814c492",
        "colab": {
          "base_uri": "https://localhost:8080/",
          "height": 34
        }
      },
      "source": [
        "lr_clf.score(validation_features, validation_label)"
      ],
      "execution_count": 0,
      "outputs": [
        {
          "output_type": "execute_result",
          "data": {
            "text/plain": [
              "0.9550561797752809"
            ]
          },
          "metadata": {
            "tags": []
          },
          "execution_count": 80
        }
      ]
    },
    {
      "cell_type": "code",
      "metadata": {
        "id": "cCNmfyZAGsll",
        "colab_type": "code",
        "colab": {}
      },
      "source": [
        ""
      ],
      "execution_count": 0,
      "outputs": []
    },
    {
      "cell_type": "markdown",
      "metadata": {
        "id": "XKagruArjKMn",
        "colab_type": "text"
      },
      "source": [
        "## PoS Tagging with LSTM"
      ]
    },
    {
      "cell_type": "markdown",
      "metadata": {
        "id": "TtvQdy0QjzdL",
        "colab_type": "text"
      },
      "source": [
        "Originally from https://nlpforhackers.io/lstm-pos-tagger-keras/"
      ]
    },
    {
      "cell_type": "code",
      "metadata": {
        "id": "_uLL4og6jKrO",
        "colab_type": "code",
        "outputId": "d1ed3def-6f16-4acb-c63d-35fa036ffaff",
        "colab": {
          "base_uri": "https://localhost:8080/",
          "height": 121
        }
      },
      "source": [
        "import nltk\n",
        "import numpy as np\n",
        "\n",
        "nltk.download('treebank')\n",
        " \n",
        "tagged_sentences = nltk.corpus.treebank.tagged_sents()\n",
        " \n",
        "print(tagged_sentences[0])\n",
        "print(\"Tagged sentences: \", len(tagged_sentences))\n",
        "print(\"Tagged words:\", len(nltk.corpus.treebank.tagged_words()))"
      ],
      "execution_count": 0,
      "outputs": [
        {
          "output_type": "stream",
          "text": [
            "[nltk_data] Downloading package treebank to /root/nltk_data...\n",
            "[nltk_data]   Unzipping corpora/treebank.zip.\n",
            "[('Pierre', 'NNP'), ('Vinken', 'NNP'), (',', ','), ('61', 'CD'), ('years', 'NNS'), ('old', 'JJ'), (',', ','), ('will', 'MD'), ('join', 'VB'), ('the', 'DT'), ('board', 'NN'), ('as', 'IN'), ('a', 'DT'), ('nonexecutive', 'JJ'), ('director', 'NN'), ('Nov.', 'NNP'), ('29', 'CD'), ('.', '.')]\n",
            "Tagged sentences:  3914\n",
            "Tagged words: 100676\n"
          ],
          "name": "stdout"
        }
      ]
    },
    {
      "cell_type": "code",
      "metadata": {
        "id": "SfvbWcTJjRCC",
        "colab_type": "code",
        "outputId": "a0fb9028-16d3-44f0-af9f-fc41e6800dce",
        "colab": {
          "base_uri": "https://localhost:8080/",
          "height": 134
        }
      },
      "source": [
        "sentences, sentence_tags =[], [] \n",
        "for tagged_sentence in tagged_sentences:\n",
        "    sentence, tags = zip(*tagged_sentence)\n",
        "    sentences.append(np.array(sentence))\n",
        "    sentence_tags.append(np.array(tags))\n",
        " \n",
        "# Let's see how a sequence looks\n",
        " \n",
        "print(sentences[5])\n",
        "print(sentence_tags[5])"
      ],
      "execution_count": 0,
      "outputs": [
        {
          "output_type": "stream",
          "text": [
            "['Lorillard' 'Inc.' ',' 'the' 'unit' 'of' 'New' 'York-based' 'Loews'\n",
            " 'Corp.' 'that' '*T*-2' 'makes' 'Kent' 'cigarettes' ',' 'stopped' 'using'\n",
            " 'crocidolite' 'in' 'its' 'Micronite' 'cigarette' 'filters' 'in' '1956'\n",
            " '.']\n",
            "['NNP' 'NNP' ',' 'DT' 'NN' 'IN' 'JJ' 'JJ' 'NNP' 'NNP' 'WDT' '-NONE-' 'VBZ'\n",
            " 'NNP' 'NNS' ',' 'VBD' 'VBG' 'NN' 'IN' 'PRP$' 'NN' 'NN' 'NNS' 'IN' 'CD'\n",
            " '.']\n"
          ],
          "name": "stdout"
        }
      ]
    },
    {
      "cell_type": "code",
      "metadata": {
        "id": "5x8crBYTjVCr",
        "colab_type": "code",
        "colab": {}
      },
      "source": [
        "from sklearn.model_selection import train_test_split\n",
        "\n",
        "(train_sentences, \n",
        " test_sentences, \n",
        " train_tags, \n",
        " test_tags) = train_test_split(sentences, sentence_tags, test_size=0.2)"
      ],
      "execution_count": 0,
      "outputs": []
    },
    {
      "cell_type": "code",
      "metadata": {
        "id": "FOiP1rtFjYTI",
        "colab_type": "code",
        "colab": {}
      },
      "source": [
        "words, tags = set([]), set([])\n",
        " \n",
        "for s in train_sentences:\n",
        "    for w in s:\n",
        "        words.add(w.lower())\n",
        " \n",
        "for ts in train_tags:\n",
        "    for t in ts:\n",
        "        tags.add(t)\n",
        " \n",
        "word2index = {w: i + 2 for i, w in enumerate(list(words))}\n",
        "word2index['-PAD-'] = 0  # The special value used for padding\n",
        "word2index['-OOV-'] = 1  # The special value used for OOVs\n",
        " \n",
        "tag2index = {t: i + 1 for i, t in enumerate(list(tags))}\n",
        "tag2index['-PAD-'] = 0  # The special value used to padding"
      ],
      "execution_count": 0,
      "outputs": []
    },
    {
      "cell_type": "code",
      "metadata": {
        "id": "dZ4Yb45GjbNR",
        "colab_type": "code",
        "outputId": "13841bf5-ece7-4274-96c4-f2f2a63a0953",
        "colab": {
          "base_uri": "https://localhost:8080/",
          "height": 84
        }
      },
      "source": [
        "train_sentences_X, test_sentences_X, train_tags_y, test_tags_y = [], [], [], []\n",
        " \n",
        "for s in train_sentences:\n",
        "    s_int = []\n",
        "    for w in s:\n",
        "        try:\n",
        "            s_int.append(word2index[w.lower()])\n",
        "        except KeyError:\n",
        "            s_int.append(word2index['-OOV-'])\n",
        " \n",
        "    train_sentences_X.append(s_int)\n",
        " \n",
        "for s in test_sentences:\n",
        "    s_int = []\n",
        "    for w in s:\n",
        "        try:\n",
        "            s_int.append(word2index[w.lower()])\n",
        "        except KeyError:\n",
        "            s_int.append(word2index['-OOV-'])\n",
        " \n",
        "    test_sentences_X.append(s_int)\n",
        " \n",
        "for s in train_tags:\n",
        "    train_tags_y.append([tag2index[t] for t in s])\n",
        " \n",
        "for s in test_tags:\n",
        "    test_tags_y.append([tag2index[t] for t in s])\n",
        " \n",
        "print(train_sentences_X[0])\n",
        "print(test_sentences_X[0])\n",
        "print(train_tags_y[0])\n",
        "print(test_tags_y[0])"
      ],
      "execution_count": 0,
      "outputs": [
        {
          "output_type": "stream",
          "text": [
            "[8453, 7455, 3751, 7272, 3871, 8427, 6174, 9645, 4483, 2082, 8721, 4379, 7455, 9522, 146, 7272, 1512, 4656, 8859, 3154, 3924, 509, 833, 6193, 221, 4045, 3518, 7455, 3990, 2289]\n",
            "[7812, 7432, 3077, 1, 5519, 2170, 8355, 9661, 1022, 5430, 1, 9645, 7035, 2289]\n",
            "[24, 1, 13, 18, 46, 26, 46, 24, 2, 11, 13, 14, 1, 23, 13, 18, 1, 13, 12, 32, 33, 30, 24, 13, 24, 13, 24, 1, 11, 16]\n",
            "[3, 11, 45, 44, 44, 46, 40, 20, 26, 24, 46, 24, 30, 16]\n"
          ],
          "name": "stdout"
        }
      ]
    },
    {
      "cell_type": "code",
      "metadata": {
        "id": "QmtPXt_njdmV",
        "colab_type": "code",
        "outputId": "b73ae078-1d82-4cfd-9c43-9fe67b14edfd",
        "colab": {
          "base_uri": "https://localhost:8080/",
          "height": 34
        }
      },
      "source": [
        "MAX_LENGTH = len(max(train_sentences_X, key=len))\n",
        "print(MAX_LENGTH)  # 271"
      ],
      "execution_count": 0,
      "outputs": [
        {
          "output_type": "stream",
          "text": [
            "271\n"
          ],
          "name": "stdout"
        }
      ]
    },
    {
      "cell_type": "code",
      "metadata": {
        "id": "jWuOJ62DjgQt",
        "colab_type": "code",
        "outputId": "e4b6f86e-1726-461b-ce04-40766cccd038",
        "colab": {
          "base_uri": "https://localhost:8080/",
          "height": 34
        }
      },
      "source": [
        "from keras.preprocessing.sequence import pad_sequences\n",
        " \n",
        "train_sentences_X = pad_sequences(train_sentences_X, maxlen=MAX_LENGTH, padding='post')\n",
        "test_sentences_X = pad_sequences(test_sentences_X, maxlen=MAX_LENGTH, padding='post')\n",
        "train_tags_y = pad_sequences(train_tags_y, maxlen=MAX_LENGTH, padding='post')\n",
        "test_tags_y = pad_sequences(test_tags_y, maxlen=MAX_LENGTH, padding='post')"
      ],
      "execution_count": 0,
      "outputs": [
        {
          "output_type": "stream",
          "text": [
            "Using TensorFlow backend.\n"
          ],
          "name": "stderr"
        }
      ]
    },
    {
      "cell_type": "code",
      "metadata": {
        "id": "VLr1HFUJjkNu",
        "colab_type": "code",
        "outputId": "e05c0581-9d62-42a8-cb93-2f403c95850f",
        "colab": {
          "base_uri": "https://localhost:8080/",
          "height": 286
        }
      },
      "source": [
        "from keras.models import Sequential\n",
        "from keras.layers import Dense, LSTM, InputLayer, Bidirectional, TimeDistributed, Embedding, Activation\n",
        "from keras.optimizers import Adam\n",
        "\n",
        "import tensorflow as tf\n",
        "import numpy as np\n",
        "from tensorflow.keras.preprocessing.text import Tokenizer\n",
        "from tensorflow.keras.preprocessing.sequence import pad_sequences\n",
        "\n",
        "model = tf.keras.Sequential([\n",
        "    tf.keras.layers.Embedding(len(word2index), 128),\n",
        "    tf.keras.layers.Bidirectional(tf.keras.layers.LSTM(256, return_sequences=True)),\n",
        "    tf.keras.layers.TimeDistributed(tf.keras.layers.Dense(len(tag2index))),\n",
        "    tf.keras.layers.Activation('softmax')\n",
        "])\n",
        "model.summary() \n",
        " \n",
        "\n",
        "model.compile(loss='categorical_crossentropy', optimizer='adam', metrics=['accuracy'])\n"
      ],
      "execution_count": 0,
      "outputs": [
        {
          "output_type": "stream",
          "text": [
            "Model: \"sequential_3\"\n",
            "_________________________________________________________________\n",
            "Layer (type)                 Output Shape              Param #   \n",
            "=================================================================\n",
            "embedding_3 (Embedding)      (None, None, 128)         1296384   \n",
            "_________________________________________________________________\n",
            "bidirectional_1 (Bidirection (None, None, 512)         788480    \n",
            "_________________________________________________________________\n",
            "time_distributed (TimeDistri (None, None, 47)          24111     \n",
            "_________________________________________________________________\n",
            "activation (Activation)      (None, None, 47)          0         \n",
            "=================================================================\n",
            "Total params: 2,108,975\n",
            "Trainable params: 2,108,975\n",
            "Non-trainable params: 0\n",
            "_________________________________________________________________\n"
          ],
          "name": "stdout"
        }
      ]
    },
    {
      "cell_type": "code",
      "metadata": {
        "id": "vViobsXSjnEV",
        "colab_type": "code",
        "colab": {}
      },
      "source": [
        "def to_categorical(sequences, categories):\n",
        "    cat_sequences = []\n",
        "    for s in sequences:\n",
        "        cats = []\n",
        "        for item in s:\n",
        "            cats.append(np.zeros(categories))\n",
        "            cats[-1][item] = 1.0\n",
        "        cat_sequences.append(cats)\n",
        "    return np.array(cat_sequences)"
      ],
      "execution_count": 0,
      "outputs": []
    },
    {
      "cell_type": "code",
      "metadata": {
        "id": "8iZ8GyXajppq",
        "colab_type": "code",
        "outputId": "b3c873bd-147a-42cd-ef99-0f9f048694d8",
        "colab": {
          "base_uri": "https://localhost:8080/",
          "height": 386
        }
      },
      "source": [
        "model.fit(train_sentences_X, to_categorical(train_tags_y, len(tag2index)), batch_size=128, epochs=10, validation_split=0.2)"
      ],
      "execution_count": 0,
      "outputs": [
        {
          "output_type": "stream",
          "text": [
            "Train on 2504 samples, validate on 627 samples\n",
            "Epoch 1/10\n",
            "2504/2504 [==============================] - 16s 6ms/sample - loss: 1.3091 - acc: 0.8589 - val_loss: 0.3673 - val_acc: 0.9095\n",
            "Epoch 2/10\n",
            "2504/2504 [==============================] - 15s 6ms/sample - loss: 0.3408 - acc: 0.9109 - val_loss: 0.3107 - val_acc: 0.9085\n",
            "Epoch 3/10\n",
            "2504/2504 [==============================] - 15s 6ms/sample - loss: 0.3137 - acc: 0.9096 - val_loss: 0.2988 - val_acc: 0.9187\n",
            "Epoch 4/10\n",
            "2504/2504 [==============================] - 15s 6ms/sample - loss: 0.3026 - acc: 0.9168 - val_loss: 0.2895 - val_acc: 0.9193\n",
            "Epoch 5/10\n",
            "2504/2504 [==============================] - 15s 6ms/sample - loss: 0.2937 - acc: 0.9171 - val_loss: 0.2815 - val_acc: 0.9193\n",
            "Epoch 6/10\n",
            "2504/2504 [==============================] - 15s 6ms/sample - loss: 0.2860 - acc: 0.9177 - val_loss: 0.2769 - val_acc: 0.9208\n",
            "Epoch 7/10\n",
            "2504/2504 [==============================] - 15s 6ms/sample - loss: 0.2817 - acc: 0.9188 - val_loss: 0.2708 - val_acc: 0.9233\n",
            "Epoch 8/10\n",
            "2504/2504 [==============================] - 15s 6ms/sample - loss: 0.2757 - acc: 0.9224 - val_loss: 0.2655 - val_acc: 0.9246\n",
            "Epoch 9/10\n",
            "2504/2504 [==============================] - 15s 6ms/sample - loss: 0.2701 - acc: 0.9233 - val_loss: 0.2598 - val_acc: 0.9251\n",
            "Epoch 10/10\n",
            "2504/2504 [==============================] - 15s 6ms/sample - loss: 0.2639 - acc: 0.9261 - val_loss: 0.2544 - val_acc: 0.9298\n"
          ],
          "name": "stdout"
        },
        {
          "output_type": "execute_result",
          "data": {
            "text/plain": [
              "<tensorflow.python.keras.callbacks.History at 0x7ff768a190b8>"
            ]
          },
          "metadata": {
            "tags": []
          },
          "execution_count": 90
        }
      ]
    },
    {
      "cell_type": "code",
      "metadata": {
        "id": "QXwKGEH5jr3l",
        "colab_type": "code",
        "outputId": "67810e09-9401-4a33-fb0a-3b8d9d717b75",
        "colab": {
          "base_uri": "https://localhost:8080/",
          "height": 50
        }
      },
      "source": [
        "scores = model.evaluate(test_sentences_X, to_categorical(test_tags_y, len(tag2index)))\n",
        "print(f\"{model.metrics_names[1]}: {scores[1] * 100}\")   "
      ],
      "execution_count": 0,
      "outputs": [
        {
          "output_type": "stream",
          "text": [
            "783/783 [==============================] - 4s 5ms/sample - loss: 0.2664 - acc: 0.9265\n",
            "acc: 92.6477313041687\n"
          ],
          "name": "stdout"
        }
      ]
    },
    {
      "cell_type": "code",
      "metadata": {
        "id": "u_c4hqSonqIL",
        "colab_type": "code",
        "colab": {}
      },
      "source": [
        ""
      ],
      "execution_count": 0,
      "outputs": []
    }
  ]
}