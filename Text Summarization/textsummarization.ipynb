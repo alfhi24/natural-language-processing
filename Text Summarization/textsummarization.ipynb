{
 "cells": [
  {
   "cell_type": "code",
   "execution_count": 18,
   "metadata": {},
   "outputs": [
    {
     "name": "stderr",
     "output_type": "stream",
     "text": [
      "[nltk_data] Downloading package stopwords to\n",
      "[nltk_data]     C:\\Users\\ASTRONAUT\\AppData\\Roaming\\nltk_data...\n",
      "[nltk_data]   Package stopwords is already up-to-date!\n"
     ]
    }
   ],
   "source": [
    "import bs4 as bs\n",
    "import urllib.request\n",
    "import re\n",
    "import nltk\n",
    "nltk.download('stopwords')\n",
    "import heapq"
   ]
  },
  {
   "cell_type": "code",
   "execution_count": 19,
   "metadata": {},
   "outputs": [],
   "source": [
    "ur = 'https://id.wikipedia.org/wiki/Antariksawan'\n",
    "source = urllib.request.urlopen(ur).read()"
   ]
  },
  {
   "cell_type": "code",
   "execution_count": 20,
   "metadata": {},
   "outputs": [
    {
     "name": "stdout",
     "output_type": "stream",
     "text": [
      "Antariksawan (lazim disebut astronaut) adalah sebutan bagi orang yang telah menjalani latihan dalam program penerbangan antariksa manusia untuk memimpin, menerbangkan pesawat, atau menjadi awak pesawat antariksa. Istilah \"astronaut\" juga kadang digunakan untuk merujuk secara spesifik kepada antariksawan yang berasal dari Amerika Serikat atau negara sahabat, berbeda dengan seorang kosmonaut yang berasal dari Uni Soviet / Rusia. Kosmonaut pertama adalah Yuri Gagarin. Semenjak tahun 2003 dikenal pula istilah taikonaut (meski bukan istilah resmi pemerintah Tiongkok), untuk antariksawan dari Tiongkok. Taikonaut pertama adalah Yang Liwei.\n",
      "Antariksawan-antariksawan pertama, baik di AS maupun Uni Soviet, biasanya merupakan pilot pesawat tempur (umumnya pilot-pilot penguji ) dengan latar belakang militer. Antariksawan militer biasanya menerima tanda kualifikasi khusus, dikenal di AS dengan nama Astronaut Badge setelah menyelesaikan latihan dan mengikuti penerbangan ke luar angkasa.\n",
      "Lebih dari 32 negara sudah pernah mengirimkan antariksawannya ke luar angkasa. Hingga kini (April 2007), sembilan belas antariksawan telah tewas dalam misi perjalanannya, dan setidaknya sepuluh antariksawan telah meninggal dalam kecelakaan latihan di darat.\n",
      "Hingga akhir 1970-an hanya orang-orang Amerika dan Soviet yang merupakan antariksawan aktif. Pada 1976 pihak Soviet memulai program Intercosmos dengan sebuah kelompok yang terdiri dari 6 antariksawan dari negara-negara sosialis lainnya, diikuti kelompok kedua yang berlatih pada 1978. Pada sekitar waktu yang hampir sama pada 1978 Badan Luar Angkasa Eropa memilih 4 antariksawan untuk berlatih untuk misi Spacelab pertama mereka di pesawat ulang alik NASA. Pada 1980 Prancis memulai pemilihan antariksawan mereka (mereka dipanggil \"spasionot\"), diikuti oleh Jerman pada 1982, Kanada pada 1983, Jepang pada 1985, Italia pada 1988 dan Malaysia pada 2007.\n",
      "Manusia pertama yang ke luar angkasa ialah Yuri Gagarin pada 12 April 1961 menggunakan Vostok 1. Wanita pertama yang ke luar angkasa ialah Valentina Tereshkova pada Juni 1963 menaiki Vostok 6 berkebangsaan Rusia.\n",
      "Alan Shepard menjadi orang Amerika dan pemimpin astronot ke luar angkasa pada 5 Mei 1961. Wanita Amerika pertama ke luar angkasa ialah Sally Ride yang menaiki pesawat luar angkasa Chalenger misi STS-7 pada 18 Juni 1983.\n",
      "Misi pertama yang pergi ke orbit bulan ialah Apollo 8 yang dipandu oleh William Anders. Dia lahir di Hong Kong dan menjadi orang Asia pertama menjadi antariksawan pada 15 Oktober 2003. Yang Liwei menjadi rakyat China pertama menjadi antariksawan menggunakan pesawat Shenzhou 5.\n",
      "Rusia melaksanakan program Intercosmos telah membenarkan banyak orang-orang dari negara-negara sosialis pergi ke luar angkasa. Contohnya Vladimir Remek menjadi orang Czech pertama ke luar angkasa menjalankan roket Russia, Soyuz. Pada 23 Julai 1980, Pham Tuan menjadi orang Vietnam pertama menjadi orang Asia Tenggara ke luar angkasa menggunakan Soyuz 37. Pada 1980, rakyat Kuba bernama Arnaldo Tamayo Méndez menjadi orang keturunan Afrika pertama ke luar angkasa. Sedangkan kelahiran Afrika pertama yang ke luar angkasa ialah Patrick Baudry.\n",
      "berikut ini adalah daftar panggilan antariksawan dari berbagai negara:\n",
      "\n"
     ]
    }
   ],
   "source": [
    "# print(source)\n",
    "soup = bs.BeautifulSoup(source,'lxml')\n",
    "text = \"\"\n",
    "for paragraph in soup.find_all('p') :\n",
    "    text += paragraph.text\n",
    "print(text)"
   ]
  },
  {
   "cell_type": "code",
   "execution_count": 21,
   "metadata": {},
   "outputs": [
    {
     "name": "stdout",
     "output_type": "stream",
     "text": [
      "antariksawan lazim disebut astronaut adalah sebutan bagi orang yang telah menjalani latihan dalam program penerbangan antariksa manusia untuk memimpin menerbangkan pesawat atau menjadi awak pesawat antariksa istilah astronaut juga kadang digunakan untuk merujuk secara spesifik kepada antariksawan yang berasal dari amerika serikat atau negara sahabat berbeda dengan seorang kosmonaut yang berasal dari uni soviet rusia kosmonaut pertama adalah yuri gagarin semenjak tahun dikenal pula istilah taikonaut meski bukan istilah resmi pemerintah tiongkok untuk antariksawan dari tiongkok taikonaut pertama adalah yang liwei antariksawan antariksawan pertama baik di as maupun uni soviet biasanya merupakan pilot pesawat tempur umumnya pilot pilot penguji dengan latar belakang militer antariksawan militer biasanya menerima tanda kualifikasi khusus dikenal di as dengan nama astronaut badge setelah menyelesaikan latihan dan mengikuti penerbangan ke luar angkasa lebih dari negara sudah pernah mengirimkan antariksawannya ke luar angkasa hingga kini april sembilan belas antariksawan telah tewas dalam misi perjalanannya dan setidaknya sepuluh antariksawan telah meninggal dalam kecelakaan latihan di darat hingga akhir an hanya orang orang amerika dan soviet yang merupakan antariksawan aktif pada pihak soviet memulai program intercosmos dengan sebuah kelompok yang terdiri dari antariksawan dari negara negara sosialis lainnya diikuti kelompok kedua yang berlatih pada pada sekitar waktu yang hampir sama pada badan luar angkasa eropa memilih antariksawan untuk berlatih untuk misi spacelab pertama mereka di pesawat ulang alik nasa pada prancis memulai pemilihan antariksawan mereka mereka dipanggil spasionot diikuti oleh jerman pada kanada pada jepang pada italia pada dan malaysia pada manusia pertama yang ke luar angkasa ialah yuri gagarin pada april menggunakan vostok wanita pertama yang ke luar angkasa ialah valentina tereshkova pada juni menaiki vostok berkebangsaan rusia alan shepard menjadi orang amerika dan pemimpin astronot ke luar angkasa pada mei wanita amerika pertama ke luar angkasa ialah sally ride yang menaiki pesawat luar angkasa chalenger misi sts pada juni misi pertama yang pergi ke orbit bulan ialah apollo yang dipandu oleh william anders dia lahir di hong kong dan menjadi orang asia pertama menjadi antariksawan pada oktober yang liwei menjadi rakyat china pertama menjadi antariksawan menggunakan pesawat shenzhou rusia melaksanakan program intercosmos telah membenarkan banyak orang orang dari negara negara sosialis pergi ke luar angkasa contohnya vladimir remek menjadi orang czech pertama ke luar angkasa menjalankan roket russia soyuz pada julai pham tuan menjadi orang vietnam pertama menjadi orang asia tenggara ke luar angkasa menggunakan soyuz pada rakyat kuba bernama arnaldo tamayo méndez menjadi orang keturunan afrika pertama ke luar angkasa sedangkan kelahiran afrika pertama yang ke luar angkasa ialah patrick baudry berikut ini adalah daftar panggilan antariksawan dari berbagai negara \n"
     ]
    }
   ],
   "source": [
    "text = re.sub(r'\\[[0-9]*\\]',' ',text)\n",
    "text = re.sub(r'\\s+',' ',text)\n",
    "clean_text = text.lower()\n",
    "clean_text = re.sub(r'\\W',' ',clean_text)\n",
    "clean_text = re.sub(r'\\d',' ',clean_text)\n",
    "clean_text = re.sub(r'\\s+',' ',clean_text)\n",
    "print(clean_text)"
   ]
  },
  {
   "cell_type": "code",
   "execution_count": 22,
   "metadata": {},
   "outputs": [],
   "source": [
    "# Tokenize sentences\n",
    "sentences = nltk.sent_tokenize(text)\n",
    "\n",
    "# Stopword list\n",
    "# stop_words = nltk.corpus.stopwords.words('english')"
   ]
  },
  {
   "cell_type": "code",
   "execution_count": 23,
   "metadata": {},
   "outputs": [],
   "source": [
    "stop_words = open(\"id_stopwords.txt\")\n",
    "# print(f)"
   ]
  },
  {
   "cell_type": "code",
   "execution_count": 24,
   "metadata": {},
   "outputs": [],
   "source": [
    "# Word counts \n",
    "word2count = {}\n",
    "for word in nltk.word_tokenize(clean_text):\n",
    "    if word not in stop_words:\n",
    "        if word not in word2count.keys():\n",
    "            word2count[word] = 1\n",
    "        else:\n",
    "            word2count[word] += 1\n",
    "\n",
    "# Converting counts to weights\n",
    "max_count = max(word2count.values())\n",
    "for key in word2count.keys():\n",
    "    word2count[key] = word2count[key]/max_count\n",
    "    \n",
    "# Product sentence scores    \n",
    "sent2score = {}\n",
    "for sentence in sentences:\n",
    "    for word in nltk.word_tokenize(sentence.lower()):\n",
    "        if word in word2count.keys():\n",
    "            if len(sentence.split(' ')) < 25:\n",
    "                if sentence not in sent2score.keys():\n",
    "                    sent2score[sentence] = word2count[word]\n",
    "                else:\n",
    "                    sent2score[sentence] += word2count[word]"
   ]
  },
  {
   "cell_type": "code",
   "execution_count": 25,
   "metadata": {},
   "outputs": [
    {
     "name": "stdout",
     "output_type": "stream",
     "text": [
      "---------------------------------------------------------\n",
      "Wanita Amerika pertama ke luar angkasa ialah Sally Ride yang menaiki pesawat luar angkasa Chalenger misi STS-7 pada 18 Juni 1983.\n",
      "Pada 23 Julai 1980, Pham Tuan menjadi orang Vietnam pertama menjadi orang Asia Tenggara ke luar angkasa menggunakan Soyuz 37.\n",
      "Wanita pertama yang ke luar angkasa ialah Valentina Tereshkova pada Juni 1963 menaiki Vostok 6 berkebangsaan Rusia.\n",
      "Manusia pertama yang ke luar angkasa ialah Yuri Gagarin pada 12 April 1961 menggunakan Vostok 1.\n",
      "Pada 1980, rakyat Kuba bernama Arnaldo Tamayo Méndez menjadi orang keturunan Afrika pertama ke luar angkasa.\n"
     ]
    }
   ],
   "source": [
    "# Gettings best 5 lines             \n",
    "best_sentences = heapq.nlargest(5, sent2score, key=sent2score.get)\n",
    "\n",
    "print('---------------------------------------------------------')\n",
    "for sentence in best_sentences:\n",
    "    print(sentence)"
   ]
  }
 ],
 "metadata": {
  "kernelspec": {
   "display_name": "Python 3",
   "language": "python",
   "name": "python3"
  },
  "language_info": {
   "codemirror_mode": {
    "name": "ipython",
    "version": 3
   },
   "file_extension": ".py",
   "mimetype": "text/x-python",
   "name": "python",
   "nbconvert_exporter": "python",
   "pygments_lexer": "ipython3",
   "version": "3.7.1"
  }
 },
 "nbformat": 4,
 "nbformat_minor": 2
}
